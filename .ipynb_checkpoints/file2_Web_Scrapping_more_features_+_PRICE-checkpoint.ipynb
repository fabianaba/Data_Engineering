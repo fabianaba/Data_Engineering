{
 "cells": [
  {
   "cell_type": "code",
   "execution_count": 1,
   "id": "222f3994",
   "metadata": {
    "ExecuteTime": {
     "end_time": "2022-03-16T01:04:39.771730Z",
     "start_time": "2022-03-16T01:04:39.270881Z"
    }
   },
   "outputs": [],
   "source": [
    "from bs4 import BeautifulSoup\n",
    "from datetime import datetime\n",
    "import requests\n",
    "import pandas as pd\n",
    "import numpy as np"
   ]
  },
  {
   "cell_type": "markdown",
   "id": "0b3bcaa2",
   "metadata": {},
   "source": [
    "# Competitor's Webpage - Web Scraping"
   ]
  },
  {
   "cell_type": "markdown",
   "id": "20620fc9",
   "metadata": {},
   "source": [
    "## H&M - Men - Jeans - showroom (main) page"
   ]
  },
  {
   "cell_type": "code",
   "execution_count": 2,
   "id": "092083e3",
   "metadata": {
    "ExecuteTime": {
     "end_time": "2022-03-16T01:04:41.137633Z",
     "start_time": "2022-03-16T01:04:41.128228Z"
    }
   },
   "outputs": [],
   "source": [
    "url = 'https://www2.hm.com/en_us/men/products/jeans.html'"
   ]
  },
  {
   "cell_type": "code",
   "execution_count": 3,
   "id": "1a20a640",
   "metadata": {
    "ExecuteTime": {
     "end_time": "2022-03-16T01:04:41.684003Z",
     "start_time": "2022-03-16T01:04:41.671928Z"
    }
   },
   "outputs": [],
   "source": [
    "headers = {'User-Agent': 'Mozilla/5.0 (Windows NT 10.0; Win64; x64; rv:97.0) Gecko/20100101 Firefox/97.0'}\n",
    "# encontro esse user-agent da linha acima em http://developers.whatismybrowser.com/"
   ]
  },
  {
   "cell_type": "code",
   "execution_count": 4,
   "id": "403b4177",
   "metadata": {
    "ExecuteTime": {
     "end_time": "2022-03-16T01:04:43.102974Z",
     "start_time": "2022-03-16T01:04:42.241600Z"
    }
   },
   "outputs": [],
   "source": [
    "page = requests.get(url, headers=headers)"
   ]
  },
  {
   "cell_type": "code",
   "execution_count": 5,
   "id": "933b70ef",
   "metadata": {
    "ExecuteTime": {
     "end_time": "2022-03-16T01:04:43.305144Z",
     "start_time": "2022-03-16T01:04:43.104967Z"
    }
   },
   "outputs": [],
   "source": [
    "soup = BeautifulSoup(page.text, 'html.parser')"
   ]
  },
  {
   "cell_type": "code",
   "execution_count": 6,
   "id": "e46424ba",
   "metadata": {
    "ExecuteTime": {
     "end_time": "2022-03-16T01:04:43.371504Z",
     "start_time": "2022-03-16T01:04:43.345869Z"
    }
   },
   "outputs": [],
   "source": [
    "products = soup.find('ul', class_='products-listing small')  # not find_all because I want only the first "
   ]
  },
  {
   "cell_type": "code",
   "execution_count": 7,
   "id": "9d8c9857",
   "metadata": {
    "ExecuteTime": {
     "end_time": "2022-03-16T01:04:43.902504Z",
     "start_time": "2022-03-16T01:04:43.893087Z"
    }
   },
   "outputs": [],
   "source": [
    "product_list = products.find_all('article', class_='hm-product-item')"
   ]
  },
  {
   "cell_type": "code",
   "execution_count": 8,
   "id": "bf15fafe",
   "metadata": {
    "ExecuteTime": {
     "end_time": "2022-03-16T01:04:44.747561Z",
     "start_time": "2022-03-16T01:04:44.730219Z"
    }
   },
   "outputs": [],
   "source": [
    "# fazer um laco for que percorre a lista aplicando o metodo get sobre o \"data-articlecode\"\n",
    "# escrevendo o for numa linha unica de codigo que vai retornar uma lista\n",
    "\n",
    "# product_id\n",
    "product_id = [p.get('data-articlecode') for p in product_list]\n",
    "\n",
    "# product_category\n",
    "product_category = [p.get('data-category') for p in product_list]"
   ]
  },
  {
   "cell_type": "code",
   "execution_count": 9,
   "id": "690f5ea3",
   "metadata": {
    "ExecuteTime": {
     "end_time": "2022-03-16T01:04:46.269487Z",
     "start_time": "2022-03-16T01:04:46.244482Z"
    }
   },
   "outputs": [],
   "source": [
    "# product_name\n",
    "product_list = products.find_all('a', class_='link')\n",
    "product_name = [p.get_text() for p in product_list]"
   ]
  },
  {
   "cell_type": "code",
   "execution_count": 10,
   "id": "337d421a",
   "metadata": {
    "ExecuteTime": {
     "end_time": "2022-03-16T01:04:46.979784Z",
     "start_time": "2022-03-16T01:04:46.955340Z"
    }
   },
   "outputs": [],
   "source": [
    "# price\n",
    "product_list = products.find_all('span', class_='price regular')\n",
    "product_price = [p.get_text() for p in product_list]"
   ]
  },
  {
   "cell_type": "code",
   "execution_count": 11,
   "id": "a5dcb8c6",
   "metadata": {
    "ExecuteTime": {
     "end_time": "2022-03-16T01:04:47.695813Z",
     "start_time": "2022-03-16T01:04:47.682703Z"
    }
   },
   "outputs": [],
   "source": [
    "data = pd.DataFrame([product_id, product_category, product_name, product_price]).T\n",
    "data.columns = ['product_id', 'product_category', 'product_name', 'product_price']"
   ]
  },
  {
   "cell_type": "code",
   "execution_count": 12,
   "id": "71a58630",
   "metadata": {
    "ExecuteTime": {
     "end_time": "2022-03-16T01:04:48.314146Z",
     "start_time": "2022-03-16T01:04:48.279205Z"
    }
   },
   "outputs": [
    {
     "data": {
      "text/html": [
       "<div>\n",
       "<style scoped>\n",
       "    .dataframe tbody tr th:only-of-type {\n",
       "        vertical-align: middle;\n",
       "    }\n",
       "\n",
       "    .dataframe tbody tr th {\n",
       "        vertical-align: top;\n",
       "    }\n",
       "\n",
       "    .dataframe thead th {\n",
       "        text-align: right;\n",
       "    }\n",
       "</style>\n",
       "<table border=\"1\" class=\"dataframe\">\n",
       "  <thead>\n",
       "    <tr style=\"text-align: right;\">\n",
       "      <th></th>\n",
       "      <th>product_id</th>\n",
       "      <th>product_category</th>\n",
       "      <th>product_name</th>\n",
       "      <th>product_price</th>\n",
       "    </tr>\n",
       "  </thead>\n",
       "  <tbody>\n",
       "    <tr>\n",
       "      <th>0</th>\n",
       "      <td>0985159001</td>\n",
       "      <td>men_jeans_skinny</td>\n",
       "      <td>Skinny Jeans</td>\n",
       "      <td>$ 19.99</td>\n",
       "    </tr>\n",
       "    <tr>\n",
       "      <th>1</th>\n",
       "      <td>1024256001</td>\n",
       "      <td>men_jeans_slim</td>\n",
       "      <td>Slim Jeans</td>\n",
       "      <td>$ 19.99</td>\n",
       "    </tr>\n",
       "    <tr>\n",
       "      <th>2</th>\n",
       "      <td>1008549006</td>\n",
       "      <td>men_jeans_regular</td>\n",
       "      <td>Regular Jeans</td>\n",
       "      <td>$ 19.99</td>\n",
       "    </tr>\n",
       "    <tr>\n",
       "      <th>3</th>\n",
       "      <td>0690449051</td>\n",
       "      <td>men_jeans_ripped</td>\n",
       "      <td>Skinny Jeans</td>\n",
       "      <td>$ 39.99</td>\n",
       "    </tr>\n",
       "    <tr>\n",
       "      <th>4</th>\n",
       "      <td>0690449043</td>\n",
       "      <td>men_jeans_ripped</td>\n",
       "      <td>Skinny Jeans</td>\n",
       "      <td>$ 39.99</td>\n",
       "    </tr>\n",
       "  </tbody>\n",
       "</table>\n",
       "</div>"
      ],
      "text/plain": [
       "   product_id   product_category   product_name product_price\n",
       "0  0985159001   men_jeans_skinny   Skinny Jeans       $ 19.99\n",
       "1  1024256001     men_jeans_slim     Slim Jeans       $ 19.99\n",
       "2  1008549006  men_jeans_regular  Regular Jeans       $ 19.99\n",
       "3  0690449051   men_jeans_ripped   Skinny Jeans       $ 39.99\n",
       "4  0690449043   men_jeans_ripped   Skinny Jeans       $ 39.99"
      ]
     },
     "execution_count": 12,
     "metadata": {},
     "output_type": "execute_result"
    }
   ],
   "source": [
    "data.head()"
   ]
  },
  {
   "cell_type": "code",
   "execution_count": 13,
   "id": "12d9f5b9",
   "metadata": {
    "ExecuteTime": {
     "end_time": "2022-03-16T01:04:49.233075Z",
     "start_time": "2022-03-16T01:04:49.214051Z"
    }
   },
   "outputs": [
    {
     "data": {
      "text/html": [
       "<div>\n",
       "<style scoped>\n",
       "    .dataframe tbody tr th:only-of-type {\n",
       "        vertical-align: middle;\n",
       "    }\n",
       "\n",
       "    .dataframe tbody tr th {\n",
       "        vertical-align: top;\n",
       "    }\n",
       "\n",
       "    .dataframe thead th {\n",
       "        text-align: right;\n",
       "    }\n",
       "</style>\n",
       "<table border=\"1\" class=\"dataframe\">\n",
       "  <thead>\n",
       "    <tr style=\"text-align: right;\">\n",
       "      <th></th>\n",
       "      <th>product_id</th>\n",
       "      <th>product_category</th>\n",
       "      <th>product_name</th>\n",
       "      <th>product_price</th>\n",
       "      <th>style_id</th>\n",
       "      <th>color_id</th>\n",
       "    </tr>\n",
       "  </thead>\n",
       "  <tbody>\n",
       "    <tr>\n",
       "      <th>0</th>\n",
       "      <td>0985159001</td>\n",
       "      <td>men_jeans_skinny</td>\n",
       "      <td>Skinny Jeans</td>\n",
       "      <td>$ 19.99</td>\n",
       "      <td>0985159</td>\n",
       "      <td>001</td>\n",
       "    </tr>\n",
       "    <tr>\n",
       "      <th>1</th>\n",
       "      <td>1024256001</td>\n",
       "      <td>men_jeans_slim</td>\n",
       "      <td>Slim Jeans</td>\n",
       "      <td>$ 19.99</td>\n",
       "      <td>1024256</td>\n",
       "      <td>001</td>\n",
       "    </tr>\n",
       "    <tr>\n",
       "      <th>2</th>\n",
       "      <td>1008549006</td>\n",
       "      <td>men_jeans_regular</td>\n",
       "      <td>Regular Jeans</td>\n",
       "      <td>$ 19.99</td>\n",
       "      <td>1008549</td>\n",
       "      <td>006</td>\n",
       "    </tr>\n",
       "    <tr>\n",
       "      <th>3</th>\n",
       "      <td>0690449051</td>\n",
       "      <td>men_jeans_ripped</td>\n",
       "      <td>Skinny Jeans</td>\n",
       "      <td>$ 39.99</td>\n",
       "      <td>0690449</td>\n",
       "      <td>051</td>\n",
       "    </tr>\n",
       "    <tr>\n",
       "      <th>4</th>\n",
       "      <td>0690449043</td>\n",
       "      <td>men_jeans_ripped</td>\n",
       "      <td>Skinny Jeans</td>\n",
       "      <td>$ 39.99</td>\n",
       "      <td>0690449</td>\n",
       "      <td>043</td>\n",
       "    </tr>\n",
       "  </tbody>\n",
       "</table>\n",
       "</div>"
      ],
      "text/plain": [
       "   product_id   product_category   product_name product_price style_id  \\\n",
       "0  0985159001   men_jeans_skinny   Skinny Jeans       $ 19.99  0985159   \n",
       "1  1024256001     men_jeans_slim     Slim Jeans       $ 19.99  1024256   \n",
       "2  1008549006  men_jeans_regular  Regular Jeans       $ 19.99  1008549   \n",
       "3  0690449051   men_jeans_ripped   Skinny Jeans       $ 39.99  0690449   \n",
       "4  0690449043   men_jeans_ripped   Skinny Jeans       $ 39.99  0690449   \n",
       "\n",
       "  color_id  \n",
       "0      001  \n",
       "1      001  \n",
       "2      006  \n",
       "3      051  \n",
       "4      043  "
      ]
     },
     "execution_count": 13,
     "metadata": {},
     "output_type": "execute_result"
    }
   ],
   "source": [
    "data['style_id'] = data['product_id'].apply(lambda x: x[:-3])\n",
    "data['color_id'] = data['product_id'].apply(lambda x: x[-3:])\n",
    "data.head()"
   ]
  },
  {
   "cell_type": "markdown",
   "id": "4963e030",
   "metadata": {},
   "source": [
    "## H&M - Men - Jeans - product individual pages"
   ]
  },
  {
   "cell_type": "code",
   "execution_count": 14,
   "id": "ab234076",
   "metadata": {
    "ExecuteTime": {
     "end_time": "2022-03-16T01:04:52.111735Z",
     "start_time": "2022-03-16T01:04:51.588363Z"
    }
   },
   "outputs": [
    {
     "ename": "ValueError",
     "evalue": "Length mismatch: Expected axis has 0 elements, new values have 2 elements",
     "output_type": "error",
     "traceback": [
      "\u001b[1;31m---------------------------------------------------------------------------\u001b[0m",
      "\u001b[1;31mValueError\u001b[0m                                Traceback (most recent call last)",
      "\u001b[1;32m~\\AppData\\Local\\Temp/ipykernel_24204/4189501545.py\u001b[0m in \u001b[0;36m<module>\u001b[1;34m\u001b[0m\n\u001b[0;32m     21\u001b[0m \u001b[1;31m# dataframe color\u001b[0m\u001b[1;33m\u001b[0m\u001b[1;33m\u001b[0m\u001b[1;33m\u001b[0m\u001b[0m\n\u001b[0;32m     22\u001b[0m \u001b[0mdf_color\u001b[0m \u001b[1;33m=\u001b[0m \u001b[0mpd\u001b[0m\u001b[1;33m.\u001b[0m\u001b[0mDataFrame\u001b[0m\u001b[1;33m(\u001b[0m\u001b[0mlist\u001b[0m\u001b[1;33m(\u001b[0m\u001b[0mzip\u001b[0m\u001b[1;33m(\u001b[0m\u001b[0mproduct_id\u001b[0m\u001b[1;33m,\u001b[0m \u001b[0mproduct_colors\u001b[0m\u001b[1;33m)\u001b[0m\u001b[1;33m)\u001b[0m\u001b[1;33m)\u001b[0m\u001b[1;33m\u001b[0m\u001b[1;33m\u001b[0m\u001b[0m\n\u001b[1;32m---> 23\u001b[1;33m \u001b[0mdf_color\u001b[0m\u001b[1;33m.\u001b[0m\u001b[0mcolumns\u001b[0m \u001b[1;33m=\u001b[0m \u001b[1;33m[\u001b[0m\u001b[1;34m'product_id'\u001b[0m\u001b[1;33m,\u001b[0m \u001b[1;34m'product_colors'\u001b[0m\u001b[1;33m]\u001b[0m\u001b[1;33m\u001b[0m\u001b[1;33m\u001b[0m\u001b[0m\n\u001b[0m\u001b[0;32m     24\u001b[0m \u001b[0mdf_color\u001b[0m\u001b[1;33m.\u001b[0m\u001b[0mhead\u001b[0m\u001b[1;33m(\u001b[0m\u001b[1;33m)\u001b[0m\u001b[1;33m\u001b[0m\u001b[1;33m\u001b[0m\u001b[0m\n\u001b[0;32m     25\u001b[0m \u001b[1;33m\u001b[0m\u001b[0m\n",
      "\u001b[1;32m~\\AppData\\Local\\Packages\\PythonSoftwareFoundation.Python.3.7_qbz5n2kfra8p0\\LocalCache\\local-packages\\Python37\\site-packages\\pandas\\core\\generic.py\u001b[0m in \u001b[0;36m__setattr__\u001b[1;34m(self, name, value)\u001b[0m\n\u001b[0;32m   5498\u001b[0m         \u001b[1;32mtry\u001b[0m\u001b[1;33m:\u001b[0m\u001b[1;33m\u001b[0m\u001b[1;33m\u001b[0m\u001b[0m\n\u001b[0;32m   5499\u001b[0m             \u001b[0mobject\u001b[0m\u001b[1;33m.\u001b[0m\u001b[0m__getattribute__\u001b[0m\u001b[1;33m(\u001b[0m\u001b[0mself\u001b[0m\u001b[1;33m,\u001b[0m \u001b[0mname\u001b[0m\u001b[1;33m)\u001b[0m\u001b[1;33m\u001b[0m\u001b[1;33m\u001b[0m\u001b[0m\n\u001b[1;32m-> 5500\u001b[1;33m             \u001b[1;32mreturn\u001b[0m \u001b[0mobject\u001b[0m\u001b[1;33m.\u001b[0m\u001b[0m__setattr__\u001b[0m\u001b[1;33m(\u001b[0m\u001b[0mself\u001b[0m\u001b[1;33m,\u001b[0m \u001b[0mname\u001b[0m\u001b[1;33m,\u001b[0m \u001b[0mvalue\u001b[0m\u001b[1;33m)\u001b[0m\u001b[1;33m\u001b[0m\u001b[1;33m\u001b[0m\u001b[0m\n\u001b[0m\u001b[0;32m   5501\u001b[0m         \u001b[1;32mexcept\u001b[0m \u001b[0mAttributeError\u001b[0m\u001b[1;33m:\u001b[0m\u001b[1;33m\u001b[0m\u001b[1;33m\u001b[0m\u001b[0m\n\u001b[0;32m   5502\u001b[0m             \u001b[1;32mpass\u001b[0m\u001b[1;33m\u001b[0m\u001b[1;33m\u001b[0m\u001b[0m\n",
      "\u001b[1;32m~\\AppData\\Local\\Packages\\PythonSoftwareFoundation.Python.3.7_qbz5n2kfra8p0\\LocalCache\\local-packages\\Python37\\site-packages\\pandas\\_libs\\properties.pyx\u001b[0m in \u001b[0;36mpandas._libs.properties.AxisProperty.__set__\u001b[1;34m()\u001b[0m\n",
      "\u001b[1;32m~\\AppData\\Local\\Packages\\PythonSoftwareFoundation.Python.3.7_qbz5n2kfra8p0\\LocalCache\\local-packages\\Python37\\site-packages\\pandas\\core\\generic.py\u001b[0m in \u001b[0;36m_set_axis\u001b[1;34m(self, axis, labels)\u001b[0m\n\u001b[0;32m    764\u001b[0m     \u001b[1;32mdef\u001b[0m \u001b[0m_set_axis\u001b[0m\u001b[1;33m(\u001b[0m\u001b[0mself\u001b[0m\u001b[1;33m,\u001b[0m \u001b[0maxis\u001b[0m\u001b[1;33m:\u001b[0m \u001b[0mint\u001b[0m\u001b[1;33m,\u001b[0m \u001b[0mlabels\u001b[0m\u001b[1;33m:\u001b[0m \u001b[0mIndex\u001b[0m\u001b[1;33m)\u001b[0m \u001b[1;33m->\u001b[0m \u001b[1;32mNone\u001b[0m\u001b[1;33m:\u001b[0m\u001b[1;33m\u001b[0m\u001b[1;33m\u001b[0m\u001b[0m\n\u001b[0;32m    765\u001b[0m         \u001b[0mlabels\u001b[0m \u001b[1;33m=\u001b[0m \u001b[0mensure_index\u001b[0m\u001b[1;33m(\u001b[0m\u001b[0mlabels\u001b[0m\u001b[1;33m)\u001b[0m\u001b[1;33m\u001b[0m\u001b[1;33m\u001b[0m\u001b[0m\n\u001b[1;32m--> 766\u001b[1;33m         \u001b[0mself\u001b[0m\u001b[1;33m.\u001b[0m\u001b[0m_mgr\u001b[0m\u001b[1;33m.\u001b[0m\u001b[0mset_axis\u001b[0m\u001b[1;33m(\u001b[0m\u001b[0maxis\u001b[0m\u001b[1;33m,\u001b[0m \u001b[0mlabels\u001b[0m\u001b[1;33m)\u001b[0m\u001b[1;33m\u001b[0m\u001b[1;33m\u001b[0m\u001b[0m\n\u001b[0m\u001b[0;32m    767\u001b[0m         \u001b[0mself\u001b[0m\u001b[1;33m.\u001b[0m\u001b[0m_clear_item_cache\u001b[0m\u001b[1;33m(\u001b[0m\u001b[1;33m)\u001b[0m\u001b[1;33m\u001b[0m\u001b[1;33m\u001b[0m\u001b[0m\n\u001b[0;32m    768\u001b[0m \u001b[1;33m\u001b[0m\u001b[0m\n",
      "\u001b[1;32m~\\AppData\\Local\\Packages\\PythonSoftwareFoundation.Python.3.7_qbz5n2kfra8p0\\LocalCache\\local-packages\\Python37\\site-packages\\pandas\\core\\internals\\managers.py\u001b[0m in \u001b[0;36mset_axis\u001b[1;34m(self, axis, new_labels)\u001b[0m\n\u001b[0;32m    214\u001b[0m     \u001b[1;32mdef\u001b[0m \u001b[0mset_axis\u001b[0m\u001b[1;33m(\u001b[0m\u001b[0mself\u001b[0m\u001b[1;33m,\u001b[0m \u001b[0maxis\u001b[0m\u001b[1;33m:\u001b[0m \u001b[0mint\u001b[0m\u001b[1;33m,\u001b[0m \u001b[0mnew_labels\u001b[0m\u001b[1;33m:\u001b[0m \u001b[0mIndex\u001b[0m\u001b[1;33m)\u001b[0m \u001b[1;33m->\u001b[0m \u001b[1;32mNone\u001b[0m\u001b[1;33m:\u001b[0m\u001b[1;33m\u001b[0m\u001b[1;33m\u001b[0m\u001b[0m\n\u001b[0;32m    215\u001b[0m         \u001b[1;31m# Caller is responsible for ensuring we have an Index object.\u001b[0m\u001b[1;33m\u001b[0m\u001b[1;33m\u001b[0m\u001b[1;33m\u001b[0m\u001b[0m\n\u001b[1;32m--> 216\u001b[1;33m         \u001b[0mself\u001b[0m\u001b[1;33m.\u001b[0m\u001b[0m_validate_set_axis\u001b[0m\u001b[1;33m(\u001b[0m\u001b[0maxis\u001b[0m\u001b[1;33m,\u001b[0m \u001b[0mnew_labels\u001b[0m\u001b[1;33m)\u001b[0m\u001b[1;33m\u001b[0m\u001b[1;33m\u001b[0m\u001b[0m\n\u001b[0m\u001b[0;32m    217\u001b[0m         \u001b[0mself\u001b[0m\u001b[1;33m.\u001b[0m\u001b[0maxes\u001b[0m\u001b[1;33m[\u001b[0m\u001b[0maxis\u001b[0m\u001b[1;33m]\u001b[0m \u001b[1;33m=\u001b[0m \u001b[0mnew_labels\u001b[0m\u001b[1;33m\u001b[0m\u001b[1;33m\u001b[0m\u001b[0m\n\u001b[0;32m    218\u001b[0m \u001b[1;33m\u001b[0m\u001b[0m\n",
      "\u001b[1;32m~\\AppData\\Local\\Packages\\PythonSoftwareFoundation.Python.3.7_qbz5n2kfra8p0\\LocalCache\\local-packages\\Python37\\site-packages\\pandas\\core\\internals\\base.py\u001b[0m in \u001b[0;36m_validate_set_axis\u001b[1;34m(self, axis, new_labels)\u001b[0m\n\u001b[0;32m     56\u001b[0m         \u001b[1;32melif\u001b[0m \u001b[0mnew_len\u001b[0m \u001b[1;33m!=\u001b[0m \u001b[0mold_len\u001b[0m\u001b[1;33m:\u001b[0m\u001b[1;33m\u001b[0m\u001b[1;33m\u001b[0m\u001b[0m\n\u001b[0;32m     57\u001b[0m             raise ValueError(\n\u001b[1;32m---> 58\u001b[1;33m                 \u001b[1;34mf\"Length mismatch: Expected axis has {old_len} elements, new \"\u001b[0m\u001b[1;33m\u001b[0m\u001b[1;33m\u001b[0m\u001b[0m\n\u001b[0m\u001b[0;32m     59\u001b[0m                 \u001b[1;34mf\"values have {new_len} elements\"\u001b[0m\u001b[1;33m\u001b[0m\u001b[1;33m\u001b[0m\u001b[0m\n\u001b[0;32m     60\u001b[0m             )\n",
      "\u001b[1;31mValueError\u001b[0m: Length mismatch: Expected axis has 0 elements, new values have 2 elements"
     ]
    }
   ],
   "source": [
    "# API Requests\n",
    "\n",
    "# example of a product page\n",
    "url_3 = 'https://www2.hm.com/en_us/productpage.0985159001.html'\n",
    "\n",
    "page = requests.get(url_3, headers=headers)\n",
    "\n",
    "# Beautiful Soup object\n",
    "soup = BeautifulSoup(page.text, 'html.parser')\n",
    "\n",
    "# ================ Product Color ==================\n",
    "\n",
    "gen_color_list = soup.find_all('a', class_='filter-option miniature')\n",
    "\n",
    "# product colors\n",
    "product_colors = [c.get('data-color') for c in gen_color_list]\n",
    "\n",
    "# product id\n",
    "product_id = [c.get('data-articlecode') for c in gen_color_list]\n",
    "\n",
    "# dataframe color\n",
    "df_color = pd.DataFrame(list(zip(product_id, product_colors)))\n",
    "df_color.columns = ['product_id', 'product_colors']\n",
    "df_color.head()\n",
    "\n",
    "# generate style id + color id\n",
    "df_color['style_id'] = df_color['product_id'].apply(lambda x: x[:-3])\n",
    "df_color['color_id'] = df_color['product_id'].apply(lambda x: x[-3:])\n",
    "df_color.head()\n",
    "\n",
    "# ================ Product Composition ==================\n",
    "\n",
    "gen_composition_list = soup.find_all('div', class_='details-attributes-list-item')\n",
    "gen_composition = [list(filter(None, d.get_text().split('\\n'))) for d in gen_composition_list]\n",
    "gen_composition\n",
    "\n",
    "del gen_composition[5]\n",
    "\n",
    "df_composition = pd.DataFrame(gen_composition).T\n",
    "\n",
    "# rename column names\n",
    "df_composition.columns = df_composition.iloc[0]\n",
    "\n",
    "# delete first row\n",
    "df_composition = df_composition.iloc[1:]\n",
    "\n",
    "df_composition = df_composition.loc[:, ['Fit', 'Composition', 'Art. No.']]\n",
    "\n",
    "# fill NA with info from the row above\n",
    "df_composition = df_composition.fillna(method='ffill')\n",
    "\n",
    "# extract style id and article id from product_id\n",
    "# generate style id + composition id\n",
    "df_composition['style_id'] = df_composition['Art. No.'].apply(lambda x: x[:-3])\n",
    "df_composition['article_id'] = df_composition['Art. No.'].apply(lambda x: x[-3:])\n",
    "df_composition.head()\n",
    "\n",
    "# Merge color and composition dataframes\n",
    "data_sku = pd.merge(df_color, df_composition[['style_id', 'Fit', 'Composition']], how='left', on='style_id')\n",
    "data_sku.head()\n"
   ]
  },
  {
   "cell_type": "markdown",
   "id": "e8ffc10a",
   "metadata": {},
   "source": [
    "### H&M - Men - Jeans - multiple pages¶"
   ]
  },
  {
   "cell_type": "code",
   "execution_count": null,
   "id": "c9e0f755",
   "metadata": {
    "ExecuteTime": {
     "end_time": "2022-03-16T00:56:56.809461Z",
     "start_time": "2022-03-16T00:56:56.793299Z"
    }
   },
   "outputs": [],
   "source": [
    "# product_url = ['https://www2.hm.com/en_us/productpage.' + str(p) + '.html' for p in product_id]"
   ]
  },
  {
   "cell_type": "code",
   "execution_count": null,
   "id": "16343a76",
   "metadata": {
    "ExecuteTime": {
     "end_time": "2022-03-16T00:56:57.998853Z",
     "start_time": "2022-03-16T00:56:57.463963Z"
    },
    "code_folding": []
   },
   "outputs": [],
   "source": [
    "# empty dataframe\n",
    "df_details = pd.DataFrame()\n",
    "\n",
    "# empty list to collect names of unique columns for all products composition\n",
    "aux = []\n",
    "\n",
    "# list of columns selected from set(aux) after all iteractions\n",
    "cols = ['Art. No.', 'Collection', 'Composition', 'Fit'] \n",
    "\n",
    "# pattern dataframe with the columns I want to collect from each product if exist\n",
    "df_pattern = pd.DataFrame(columns=cols)\n",
    "\n",
    "for i in range(len(data)):\n",
    "   \n",
    "    # API Requests\n",
    "    url = 'https://www2.hm.com/en_us/productpage.' + data.loc[i, 'product_id'] + '.html'\n",
    "    page = requests.get(url, headers=headers)\n",
    "\n",
    "    # Beautiful Soup object\n",
    "    soup = BeautifulSoup(page.text, 'html.parser')\n",
    "\n",
    "    # ================ Product Color ==================\n",
    "\n",
    "    gen_color_list = soup.find_all('a', class_='filter-option miniature')\n",
    "\n",
    "    # product colors\n",
    "    product_colors = [c.get('data-color') for c in gen_color_list]\n",
    "\n",
    "    # product id\n",
    "    product_id = [c.get('data-articlecode') for c in gen_color_list]\n",
    "\n",
    "    # dataframe color\n",
    "    df_color = pd.DataFrame(list(zip(product_id, product_colors)))\n",
    "    df_color.columns = ['product_id', 'product_colors']\n",
    "\n",
    "    # generate style id + color id\n",
    "    df_color['style_id'] = df_color['product_id'].apply(lambda x: x[:-3])\n",
    "    df_color['color_id'] = df_color['product_id'].apply(lambda x: x[-3:])\n",
    "    \n",
    "\n",
    "    # ================ Product Composition ==================\n",
    "\n",
    "    gen_composition_list = soup.find_all('div', class_='details-attributes-list-item')\n",
    "    gen_composition = [list(filter(None, d.get_text().split('\\n'))) for d in gen_composition_list]\n",
    "    \n",
    "    df_composition = pd.DataFrame(gen_composition).T\n",
    "\n",
    "    # rename column names\n",
    "    df_composition.columns = df_composition.iloc[0]\n",
    "\n",
    "    # delete first row\n",
    "    df_composition = df_composition.iloc[1:]\n",
    "    \n",
    "    # guarantee the same selected columns for all products\n",
    "    aux = aux + df_composition.columns.tolist()\n",
    "    df_composition = pd.concat([df_pattern, df_composition], axis=0)\n",
    "\n",
    "    # fill NA with info from the row above\n",
    "    df_composition = df_composition.fillna(method='ffill')\n",
    "\n",
    "    # extract style id and article id from product_id\n",
    "    # generate style id + composition id\n",
    "    df_composition['style_id'] = df_composition['Art. No.'].apply(lambda x: x[:-3])\n",
    "    df_composition['article_id'] = df_composition['Art. No.'].apply(lambda x: x[-3:])\n",
    "    \n",
    "    # ================ Product Price ==================\n",
    "\n",
    "    item_price_list = soup.find_all('div', class_='primary-row product-item-price')\n",
    "\n",
    "    item_price = [c.get('product-price') for c in item_price_list]\n",
    "    \n",
    "    # product id\n",
    "    product_id = [c.get('data-articlecode') for c in gen_color_list]\n",
    "\n",
    "    # dataframe price\n",
    "    df_price = pd.DataFrame(list(zip(product_id, item_price)))\n",
    "    df_price.columns = ['product_id', 'product_price']   \n",
    "\n",
    "    # Merge color, composition, and price dataframes\n",
    "    data_sku1 = pd.merge(df_color, df_composition[['style_id', 'Fit', 'Composition']], how='left', on='style_id')\n",
    "    data_sku = pd.merge(data_sku1, df_price['product_price'], how='left', on='product_id')\n",
    "\n",
    "    # all product details\n",
    "    df_details = pd.concat([df_details, data_sku], axis=0)\n",
    "    "
   ]
  },
  {
   "cell_type": "code",
   "execution_count": null,
   "id": "ab4698d6",
   "metadata": {
    "ExecuteTime": {
     "end_time": "2022-03-16T00:56:20.130228Z",
     "start_time": "2022-03-16T00:56:20.130228Z"
    }
   },
   "outputs": [],
   "source": [
    "set(aux)"
   ]
  },
  {
   "cell_type": "code",
   "execution_count": null,
   "id": "dcf488c7",
   "metadata": {
    "ExecuteTime": {
     "end_time": "2022-03-16T00:56:20.131258Z",
     "start_time": "2022-03-16T00:56:20.131258Z"
    }
   },
   "outputs": [],
   "source": [
    "df_details.head()"
   ]
  },
  {
   "cell_type": "markdown",
   "id": "07dab906",
   "metadata": {},
   "source": [
    "## Merge data from showroom and product individual pages"
   ]
  },
  {
   "cell_type": "code",
   "execution_count": null,
   "id": "4c37640c",
   "metadata": {
    "ExecuteTime": {
     "end_time": "2022-03-16T00:56:20.132278Z",
     "start_time": "2022-03-16T00:56:20.132278Z"
    }
   },
   "outputs": [],
   "source": [
    "data_raw = pd.merge(data, df_details[['style_id', 'product_colors', 'Fit', 'Composition']], how='left', on='style_id')"
   ]
  },
  {
   "cell_type": "code",
   "execution_count": null,
   "id": "6ba5f564",
   "metadata": {
    "ExecuteTime": {
     "end_time": "2022-03-16T00:56:20.133301Z",
     "start_time": "2022-03-16T00:56:20.133301Z"
    }
   },
   "outputs": [],
   "source": [
    "data_raw['scrapy_datetime'] = datetime.now()"
   ]
  },
  {
   "cell_type": "code",
   "execution_count": null,
   "id": "1ba256c6",
   "metadata": {
    "ExecuteTime": {
     "end_time": "2022-03-16T00:56:20.135298Z",
     "start_time": "2022-03-16T00:56:20.135298Z"
    }
   },
   "outputs": [],
   "source": [
    "data_raw.head()"
   ]
  },
  {
   "cell_type": "code",
   "execution_count": null,
   "id": "3fc74f4d",
   "metadata": {
    "ExecuteTime": {
     "end_time": "2022-03-16T00:56:20.135885Z",
     "start_time": "2022-03-16T00:56:20.135885Z"
    }
   },
   "outputs": [],
   "source": [
    "data_raw_csv2 = data_raw.to_csv('HM_data_raw.csv', index=False)"
   ]
  },
  {
   "cell_type": "code",
   "execution_count": null,
   "id": "13f6bae9",
   "metadata": {},
   "outputs": [],
   "source": []
  }
 ],
 "metadata": {
  "kernelspec": {
   "display_name": "Python 3 (ipykernel)",
   "language": "python",
   "name": "python3"
  },
  "language_info": {
   "codemirror_mode": {
    "name": "ipython",
    "version": 3
   },
   "file_extension": ".py",
   "mimetype": "text/x-python",
   "name": "python",
   "nbconvert_exporter": "python",
   "pygments_lexer": "ipython3",
   "version": "3.7.9"
  }
 },
 "nbformat": 4,
 "nbformat_minor": 5
}
