{
 "cells": [
  {
   "cell_type": "markdown",
   "id": "64dad624",
   "metadata": {},
   "source": [
    "### <font color = '#D8218C'> EXPLORATORY DATA ANALYSIS </font>"
   ]
  },
  {
   "cell_type": "markdown",
   "id": "3de782f2",
   "metadata": {},
   "source": [
    "#### <font color = '#D8218C'> Imports</font>"
   ]
  },
  {
   "cell_type": "code",
   "execution_count": 1,
   "id": "7ca5a1e6",
   "metadata": {
    "ExecuteTime": {
     "end_time": "2022-04-13T23:05:05.932349Z",
     "start_time": "2022-04-13T23:05:00.495198Z"
    }
   },
   "outputs": [],
   "source": [
    "import pandas as pd\n",
    "import numpy  as np\n",
    "from sqlalchemy import create_engine"
   ]
  },
  {
   "cell_type": "markdown",
   "id": "d5114199",
   "metadata": {},
   "source": [
    "##### Data collection"
   ]
  },
  {
   "cell_type": "code",
   "execution_count": 2,
   "id": "29e29335",
   "metadata": {
    "ExecuteTime": {
     "end_time": "2022-04-13T23:05:06.010993Z",
     "start_time": "2022-04-13T23:05:05.951146Z"
    }
   },
   "outputs": [],
   "source": [
    "# path = r'C:\\Users\\fabic\\repos\\Data_Engineering'\n",
    "# database_name = 'database_hm.sqlite'\n",
    "# conn = create_engine('sqlite:///' + path + database_name, echo=False)\n",
    "conn = create_engine('sqlite:///database_hm.sqlite', echo=False)"
   ]
  },
  {
   "cell_type": "code",
   "execution_count": 3,
   "id": "85d16b77",
   "metadata": {
    "ExecuteTime": {
     "end_time": "2022-04-13T23:05:06.042130Z",
     "start_time": "2022-04-13T23:05:06.029768Z"
    }
   },
   "outputs": [],
   "source": [
    "query = \"\"\"\n",
    "    SELECT * FROM showroom\n",
    "\"\"\""
   ]
  },
  {
   "cell_type": "code",
   "execution_count": 4,
   "id": "dc3b3fa5",
   "metadata": {
    "ExecuteTime": {
     "end_time": "2022-04-13T23:05:06.088561Z",
     "start_time": "2022-04-13T23:05:06.059919Z"
    }
   },
   "outputs": [],
   "source": [
    "df_raw = pd.read_sql(query, con=conn)"
   ]
  },
  {
   "cell_type": "markdown",
   "id": "62331b8c",
   "metadata": {
    "ExecuteTime": {
     "end_time": "2022-03-24T00:44:13.212616Z",
     "start_time": "2022-03-24T00:44:13.207434Z"
    }
   },
   "source": [
    "#### <font color = '#D8218C'> Data Description</font>"
   ]
  },
  {
   "cell_type": "code",
   "execution_count": 5,
   "id": "063a338a",
   "metadata": {
    "ExecuteTime": {
     "end_time": "2022-04-13T23:05:07.660016Z",
     "start_time": "2022-04-13T23:05:07.650309Z"
    }
   },
   "outputs": [],
   "source": [
    "df01 = df_raw.copy()"
   ]
  },
  {
   "cell_type": "markdown",
   "id": "51c30f47",
   "metadata": {},
   "source": [
    "##### Data Dimension"
   ]
  },
  {
   "cell_type": "code",
   "execution_count": 6,
   "id": "7b4cd0f9",
   "metadata": {
    "ExecuteTime": {
     "end_time": "2022-04-13T23:05:10.644573Z",
     "start_time": "2022-04-13T23:05:10.631507Z"
    }
   },
   "outputs": [
    {
     "name": "stdout",
     "output_type": "stream",
     "text": [
      "Number of rows: 597\n",
      "Number of columns: 12\n"
     ]
    }
   ],
   "source": [
    "print('Number of rows: {}'.format(df01.shape[0]))\n",
    "print('Number of columns: {}'.format(df01.shape[1]))"
   ]
  },
  {
   "cell_type": "markdown",
   "id": "e2d02556",
   "metadata": {},
   "source": [
    "##### Data types"
   ]
  },
  {
   "cell_type": "code",
   "execution_count": 7,
   "id": "f2cf33fe",
   "metadata": {
    "ExecuteTime": {
     "end_time": "2022-04-13T23:05:19.997572Z",
     "start_time": "2022-04-13T23:05:19.933893Z"
    }
   },
   "outputs": [
    {
     "data": {
      "text/plain": [
       "product_id           object\n",
       "style_id             object\n",
       "article_id           object\n",
       "product_name         object\n",
       "product_colors       object\n",
       "fit                  object\n",
       "product_price       float64\n",
       "cotton              float64\n",
       "polyester           float64\n",
       "spandex             float64\n",
       "elastomultiester    float64\n",
       "scrapy_datetime      object\n",
       "dtype: object"
      ]
     },
     "execution_count": 7,
     "metadata": {},
     "output_type": "execute_result"
    }
   ],
   "source": [
    "df01.dtypes"
   ]
  },
  {
   "cell_type": "code",
   "execution_count": 8,
   "id": "2887776d",
   "metadata": {
    "ExecuteTime": {
     "end_time": "2022-04-13T23:05:26.034249Z",
     "start_time": "2022-04-13T23:05:26.008821Z"
    }
   },
   "outputs": [],
   "source": [
    "df01['scrapy_datetime'] = pd.to_datetime(df01['scrapy_datetime'])"
   ]
  },
  {
   "cell_type": "markdown",
   "id": "59201950",
   "metadata": {
    "ExecuteTime": {
     "end_time": "2022-03-24T00:57:17.937301Z",
     "start_time": "2022-03-24T00:57:17.913463Z"
    }
   },
   "source": [
    "##### Missing values"
   ]
  },
  {
   "cell_type": "code",
   "execution_count": 9,
   "id": "22c92e87",
   "metadata": {
    "ExecuteTime": {
     "end_time": "2022-04-13T23:05:29.693385Z",
     "start_time": "2022-04-13T23:05:29.659432Z"
    }
   },
   "outputs": [
    {
     "data": {
      "text/plain": [
       "product_id          0\n",
       "style_id            0\n",
       "article_id          0\n",
       "product_name        0\n",
       "product_colors      0\n",
       "fit                 0\n",
       "product_price       0\n",
       "cotton              0\n",
       "polyester           0\n",
       "spandex             0\n",
       "elastomultiester    0\n",
       "scrapy_datetime     0\n",
       "dtype: int64"
      ]
     },
     "execution_count": 9,
     "metadata": {},
     "output_type": "execute_result"
    }
   ],
   "source": [
    "df01.isna().sum()"
   ]
  },
  {
   "cell_type": "markdown",
   "id": "69acb591",
   "metadata": {},
   "source": [
    "##### Data description"
   ]
  },
  {
   "cell_type": "code",
   "execution_count": 10,
   "id": "203ff224",
   "metadata": {
    "ExecuteTime": {
     "end_time": "2022-04-13T23:05:31.892308Z",
     "start_time": "2022-04-13T23:05:31.861817Z"
    }
   },
   "outputs": [],
   "source": [
    "num_attributes = df01.select_dtypes(include=['int64', 'float64'])\n",
    "cat_attributes = df01.select_dtypes(exclude=['int64', 'float64', 'datetime64[ns]'])"
   ]
  },
  {
   "cell_type": "code",
   "execution_count": 11,
   "id": "915f42ee",
   "metadata": {
    "ExecuteTime": {
     "end_time": "2022-04-13T23:05:33.515112Z",
     "start_time": "2022-04-13T23:05:33.317578Z"
    }
   },
   "outputs": [
    {
     "data": {
      "text/html": [
       "<div>\n",
       "<style scoped>\n",
       "    .dataframe tbody tr th:only-of-type {\n",
       "        vertical-align: middle;\n",
       "    }\n",
       "\n",
       "    .dataframe tbody tr th {\n",
       "        vertical-align: top;\n",
       "    }\n",
       "\n",
       "    .dataframe thead th {\n",
       "        text-align: right;\n",
       "    }\n",
       "</style>\n",
       "<table border=\"1\" class=\"dataframe\">\n",
       "  <thead>\n",
       "    <tr style=\"text-align: right;\">\n",
       "      <th></th>\n",
       "      <th>attributes</th>\n",
       "      <th>min</th>\n",
       "      <th>max</th>\n",
       "      <th>range</th>\n",
       "      <th>mean</th>\n",
       "      <th>median</th>\n",
       "      <th>std</th>\n",
       "      <th>skew</th>\n",
       "      <th>kurtosis</th>\n",
       "    </tr>\n",
       "  </thead>\n",
       "  <tbody>\n",
       "    <tr>\n",
       "      <th>0</th>\n",
       "      <td>product_price</td>\n",
       "      <td>7.99</td>\n",
       "      <td>49.99</td>\n",
       "      <td>42.00</td>\n",
       "      <td>27.988325</td>\n",
       "      <td>24.99</td>\n",
       "      <td>10.395931</td>\n",
       "      <td>0.466480</td>\n",
       "      <td>-0.814279</td>\n",
       "    </tr>\n",
       "    <tr>\n",
       "      <th>1</th>\n",
       "      <td>cotton</td>\n",
       "      <td>0.72</td>\n",
       "      <td>1.00</td>\n",
       "      <td>0.28</td>\n",
       "      <td>0.972060</td>\n",
       "      <td>0.99</td>\n",
       "      <td>0.055579</td>\n",
       "      <td>-2.753831</td>\n",
       "      <td>6.743137</td>\n",
       "    </tr>\n",
       "    <tr>\n",
       "      <th>2</th>\n",
       "      <td>polyester</td>\n",
       "      <td>0.00</td>\n",
       "      <td>1.00</td>\n",
       "      <td>1.00</td>\n",
       "      <td>0.324573</td>\n",
       "      <td>0.00</td>\n",
       "      <td>0.356893</td>\n",
       "      <td>0.303936</td>\n",
       "      <td>-1.635348</td>\n",
       "    </tr>\n",
       "    <tr>\n",
       "      <th>3</th>\n",
       "      <td>spandex</td>\n",
       "      <td>0.00</td>\n",
       "      <td>0.02</td>\n",
       "      <td>0.02</td>\n",
       "      <td>0.011441</td>\n",
       "      <td>0.01</td>\n",
       "      <td>0.006892</td>\n",
       "      <td>-0.196682</td>\n",
       "      <td>-0.900533</td>\n",
       "    </tr>\n",
       "    <tr>\n",
       "      <th>4</th>\n",
       "      <td>elastomultiester</td>\n",
       "      <td>0.00</td>\n",
       "      <td>0.09</td>\n",
       "      <td>0.09</td>\n",
       "      <td>0.005042</td>\n",
       "      <td>0.00</td>\n",
       "      <td>0.020238</td>\n",
       "      <td>3.788648</td>\n",
       "      <td>12.454446</td>\n",
       "    </tr>\n",
       "  </tbody>\n",
       "</table>\n",
       "</div>"
      ],
      "text/plain": [
       "         attributes   min    max  range       mean  median        std  \\\n",
       "0     product_price  7.99  49.99  42.00  27.988325   24.99  10.395931   \n",
       "1            cotton  0.72   1.00   0.28   0.972060    0.99   0.055579   \n",
       "2         polyester  0.00   1.00   1.00   0.324573    0.00   0.356893   \n",
       "3           spandex  0.00   0.02   0.02   0.011441    0.01   0.006892   \n",
       "4  elastomultiester  0.00   0.09   0.09   0.005042    0.00   0.020238   \n",
       "\n",
       "       skew   kurtosis  \n",
       "0  0.466480  -0.814279  \n",
       "1 -2.753831   6.743137  \n",
       "2  0.303936  -1.635348  \n",
       "3 -0.196682  -0.900533  \n",
       "4  3.788648  12.454446  "
      ]
     },
     "execution_count": 11,
     "metadata": {},
     "output_type": "execute_result"
    }
   ],
   "source": [
    "# numeric data\n",
    "\n",
    "# central tendency - mean, median\n",
    "t1 = pd.DataFrame(num_attributes.apply(np.mean)).T\n",
    "t2 = pd.DataFrame(num_attributes.apply(np.median)).T\n",
    "\n",
    "# dispension - std, min, max, range, skew, kurtosis\n",
    "d1 = pd.DataFrame(num_attributes.apply(np.std)).T\n",
    "d2 = pd.DataFrame(num_attributes.apply(np.min)).T\n",
    "d3 = pd.DataFrame(num_attributes.apply(np.max)).T\n",
    "d4 = pd.DataFrame(num_attributes.apply(lambda x: x.max() - x.min())).T\n",
    "d5 = pd.DataFrame(num_attributes.apply(lambda x: x.skew())).T\n",
    "d6 = pd.DataFrame(num_attributes.apply(lambda x: x.kurtosis())).T\n",
    "\n",
    "# concate\n",
    "m1 = pd.concat([d2, d3, d4, t1, t2, d1, d5, d6]).T.reset_index()\n",
    "m1.columns = ['attributes', 'min', 'max', 'range', 'mean', 'median', 'std', 'skew', 'kurtosis']\n",
    "m1"
   ]
  }
 ],
 "metadata": {
  "kernelspec": {
   "display_name": "Python 3 (ipykernel)",
   "language": "python",
   "name": "python3"
  },
  "language_info": {
   "codemirror_mode": {
    "name": "ipython",
    "version": 3
   },
   "file_extension": ".py",
   "mimetype": "text/x-python",
   "name": "python",
   "nbconvert_exporter": "python",
   "pygments_lexer": "ipython3",
   "version": "3.7.9"
  },
  "varInspector": {
   "cols": {
    "lenName": 16,
    "lenType": 16,
    "lenVar": 40
   },
   "kernels_config": {
    "python": {
     "delete_cmd_postfix": "",
     "delete_cmd_prefix": "del ",
     "library": "var_list.py",
     "varRefreshCmd": "print(var_dic_list())"
    },
    "r": {
     "delete_cmd_postfix": ") ",
     "delete_cmd_prefix": "rm(",
     "library": "var_list.r",
     "varRefreshCmd": "cat(var_dic_list()) "
    }
   },
   "types_to_exclude": [
    "module",
    "function",
    "builtin_function_or_method",
    "instance",
    "_Feature"
   ],
   "window_display": false
  }
 },
 "nbformat": 4,
 "nbformat_minor": 5
}
