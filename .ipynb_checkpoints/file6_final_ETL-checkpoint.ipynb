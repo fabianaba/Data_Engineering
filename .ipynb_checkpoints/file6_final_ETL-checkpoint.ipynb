{
 "cells": [
  {
   "cell_type": "markdown",
   "id": "85ecf3b8",
   "metadata": {},
   "source": [
    "### <font color = '#D8218C'> Imports </font>"
   ]
  },
  {
   "cell_type": "code",
   "execution_count": 1,
   "id": "e001d3b9",
   "metadata": {
    "ExecuteTime": {
     "end_time": "2022-03-22T22:16:11.131040Z",
     "start_time": "2022-03-22T22:16:10.458944Z"
    }
   },
   "outputs": [],
   "source": [
    "import re\n",
    "import sqlite3\n",
    "import requests\n",
    "import pandas as pd\n",
    "import numpy  as np\n",
    "\n",
    "from bs4        import BeautifulSoup\n",
    "from datetime   import datetime\n",
    "from sqlalchemy import create_engine"
   ]
  },
  {
   "cell_type": "markdown",
   "id": "4c6282a1",
   "metadata": {},
   "source": [
    "### <font color = '#D8218C'> Data Collection </font>"
   ]
  },
  {
   "cell_type": "code",
   "execution_count": 2,
   "id": "da33060e",
   "metadata": {
    "ExecuteTime": {
     "end_time": "2022-03-22T22:16:11.615042Z",
     "start_time": "2022-03-22T22:16:11.132265Z"
    }
   },
   "outputs": [],
   "source": [
    "# parameters\n",
    "headers = {'User-Agent': 'Mozilla/5.0 (Windows NT 10.0; Win64; x64; rv:97.0) Gecko/20100101 Firefox/97.0'}\n",
    "\n",
    "# URL\n",
    "url = 'https://www2.hm.com/en_us/men/products/jeans.html'\n",
    "\n",
    "# request to URL\n",
    "page = requests.get(url, headers=headers)\n",
    "\n",
    "# Beautiful Soup object\n",
    "soup = BeautifulSoup(page.text, 'html.parser')\n",
    "\n",
    "# =============== Products Data =============================\n",
    "\n",
    "products = soup.find('ul', class_='products-listing small')\n",
    "product_list = products.find_all('article', class_='hm-product-item')\n",
    "\n",
    "# product_id\n",
    "product_id = [p.get('data-articlecode') for p in product_list]\n",
    "\n",
    "# product_category\n",
    "product_category = [p.get('data-category') for p in product_list]\n",
    "\n",
    "# product_name\n",
    "product_list = products.find_all('a', class_='link')\n",
    "product_name = [p.get_text() for p in product_list]\n",
    "\n",
    "# price\n",
    "product_list = products.find_all('span', class_='price regular')\n",
    "product_price = [p.get_text() for p in product_list]\n",
    "\n",
    "data = pd.DataFrame([product_id, product_category, product_name, product_price]).T\n",
    "data.columns = ['product_id', 'product_category', 'product_name', 'product_price']"
   ]
  },
  {
   "cell_type": "code",
   "execution_count": 3,
   "id": "bf7c8daa",
   "metadata": {
    "ExecuteTime": {
     "end_time": "2022-03-22T22:16:11.630298Z",
     "start_time": "2022-03-22T22:16:11.616056Z"
    }
   },
   "outputs": [
    {
     "data": {
      "text/plain": [
       "(36, 4)"
      ]
     },
     "execution_count": 3,
     "metadata": {},
     "output_type": "execute_result"
    }
   ],
   "source": [
    "data.shape"
   ]
  },
  {
   "cell_type": "markdown",
   "id": "1973d830",
   "metadata": {},
   "source": [
    "### <font color = '#D8218C'> Data Collection by Product </font> "
   ]
  },
  {
   "cell_type": "code",
   "execution_count": 4,
   "id": "ff1a85be",
   "metadata": {
    "ExecuteTime": {
     "end_time": "2022-03-22T22:18:23.270735Z",
     "start_time": "2022-03-22T22:16:11.632249Z"
    }
   },
   "outputs": [
    {
     "name": "stdout",
     "output_type": "stream",
     "text": [
      "Product URL: https://www2.hm.com/en_us/productpage.0985159001.html\n",
      "Product URL: https://www2.hm.com/en_us/productpage.1024256001.html\n",
      "Product URL: https://www2.hm.com/en_us/productpage.0927964002.html\n",
      "Product URL: https://www2.hm.com/en_us/productpage.1008549006.html\n",
      "Product URL: https://www2.hm.com/en_us/productpage.0690449043.html\n",
      "Product URL: https://www2.hm.com/en_us/productpage.1008549008.html\n",
      "Product URL: https://www2.hm.com/en_us/productpage.0985159008.html\n",
      "Product URL: https://www2.hm.com/en_us/productpage.0927964013.html\n",
      "Product URL: https://www2.hm.com/en_us/productpage.0690449022.html\n",
      "Product URL: https://www2.hm.com/en_us/productpage.1024256002.html\n",
      "Product URL: https://www2.hm.com/en_us/productpage.0979945001.html\n",
      "Product URL: https://www2.hm.com/en_us/productpage.1008549001.html\n",
      "Product URL: https://www2.hm.com/en_us/productpage.0985159004.html\n",
      "Product URL: https://www2.hm.com/en_us/productpage.1008549004.html\n",
      "Product URL: https://www2.hm.com/en_us/productpage.1008549003.html\n",
      "Product URL: https://www2.hm.com/en_us/productpage.0690449051.html\n",
      "Product URL: https://www2.hm.com/en_us/productpage.1004199004.html\n",
      "Product URL: https://www2.hm.com/en_us/productpage.0985159005.html\n",
      "Product URL: https://www2.hm.com/en_us/productpage.1008110001.html\n",
      "Product URL: https://www2.hm.com/en_us/productpage.0938875007.html\n",
      "Product URL: https://www2.hm.com/en_us/productpage.0985159006.html\n",
      "Product URL: https://www2.hm.com/en_us/productpage.1024256006.html\n",
      "Product URL: https://www2.hm.com/en_us/productpage.0938875012.html\n",
      "Product URL: https://www2.hm.com/en_us/productpage.1024256007.html\n",
      "Product URL: https://www2.hm.com/en_us/productpage.0985159002.html\n",
      "Product URL: https://www2.hm.com/en_us/productpage.0427159006.html\n",
      "Product URL: https://www2.hm.com/en_us/productpage.1024256004.html\n",
      "Product URL: https://www2.hm.com/en_us/productpage.1008110002.html\n",
      "Product URL: https://www2.hm.com/en_us/productpage.1024256003.html\n",
      "Product URL: https://www2.hm.com/en_us/productpage.1027852002.html\n",
      "Product URL: https://www2.hm.com/en_us/productpage.0979945003.html\n",
      "Product URL: https://www2.hm.com/en_us/productpage.1013317010.html\n",
      "Product URL: https://www2.hm.com/en_us/productpage.0875105017.html\n",
      "Product URL: https://www2.hm.com/en_us/productpage.1004199002.html\n",
      "Product URL: https://www2.hm.com/en_us/productpage.0811993034.html\n",
      "Product URL: https://www2.hm.com/en_us/productpage.0985197003.html\n"
     ]
    }
   ],
   "source": [
    "# empty dataframe\n",
    "df_composition_s = pd.DataFrame()\n",
    "\n",
    "# empty list to collect names of unique columns for all products composition\n",
    "aux = []\n",
    "\n",
    "# pattern dataframe with the columns I want to collect from each product if exist\n",
    "df_pattern = pd.DataFrame(columns=['Art. No.', 'Composition', 'Fit'])\n",
    "\n",
    "for i in range(len(data)):\n",
    "   \n",
    "    # API Requests\n",
    "    url = 'https://www2.hm.com/en_us/productpage.' + data.loc[i, 'product_id'] + '.html'\n",
    "   \n",
    "    print('Product URL: {}'.format(url))\n",
    "    \n",
    "    page = requests.get(url, headers=headers)\n",
    "\n",
    "    # Beautiful Soup object\n",
    "    soup = BeautifulSoup(page.text, 'html.parser')\n",
    "\n",
    "    # ================ Product Color ==================\n",
    "\n",
    "    gen_color_list = soup.find_all('a', class_='filter-option miniature active') + soup.find_all('a', class_='filter-option miniature')\n",
    "\n",
    "    # product colors\n",
    "    product_colors = [c.get('data-color') for c in gen_color_list]\n",
    "\n",
    "    # product id\n",
    "    product_id = [c.get('data-articlecode') for c in gen_color_list]\n",
    "\n",
    "    # dataframe color\n",
    "    df_color = pd.DataFrame(list(zip(product_id, product_colors)))\n",
    "    df_color.columns = ['product_id', 'product_colors']\n",
    "    \n",
    "    for j in range(len(df_color)):\n",
    "        \n",
    "        # API Requests\n",
    "        url = 'https://www2.hm.com/en_us/productpage.' + df_color.loc[j, 'product_id'] + '.html'\n",
    "\n",
    "        page = requests.get(url, headers=headers)\n",
    "\n",
    "        # Beautiful Soup object\n",
    "        soup = BeautifulSoup(page.text, 'html.parser')\n",
    "        \n",
    "        # ================ Product Name ==================\n",
    "        product_name = soup.find('h1', class_='primary product-item-headline')\n",
    "        product_name = product_name.get_text()\n",
    "        \n",
    "        # ================ Product Price ==================\n",
    "        product_price = soup.find_all('div', class_='primary-row product-item-price')\n",
    "        product_price = re.findall(r'\\d+\\.?\\d+', product_price[0].get_text())[0]\n",
    "    \n",
    "        # ================ Product Composition ==================\n",
    "\n",
    "        gen_composition_list = soup.find_all('div', class_='details-attributes-list-item')\n",
    "        gen_composition = [list(filter(None, d.get_text().split('\\n'))) for d in gen_composition_list]\n",
    "\n",
    "        df_composition = pd.DataFrame(gen_composition).T\n",
    "\n",
    "        # rename column names\n",
    "        df_composition.columns = df_composition.iloc[0]\n",
    "\n",
    "        # delete first row\n",
    "        df_composition = df_composition.iloc[1:]\n",
    "        \n",
    "        # drop columns\n",
    "        df_composition = df_composition.drop(columns=['messages.garmentLength', 'messages.waistRise', \n",
    "                                                      'messages.clothingStyle', 'Care instructions',\n",
    "                                                      'Material', 'Collection', 'Description', 'Imported', \n",
    "                                                      'Concept', 'Nice to know', 'More sustainable materials', 'Size'], axis=1, errors='ignore')\n",
    "\n",
    "        # reset index\n",
    "        df_composition = df_composition.reset_index(drop=True)\n",
    "            \n",
    "        # remove pocket lining, shell, and lining\n",
    "        df_composition['Composition'] = df_composition['Composition'].replace('Pocket lining: ', '', regex=True)\n",
    "        df_composition['Composition'] = df_composition['Composition'].replace('Shell: ', '', regex=True)\n",
    "        df_composition['Composition'] = df_composition['Composition'].replace('Lining: ', '', regex=True)\n",
    "\n",
    "        # guarantee the same selected columns for all products\n",
    "        aux = aux + df_composition.columns.tolist()\n",
    "        df_composition = pd.concat([df_pattern, df_composition], axis=0)\n",
    "\n",
    "        # fill NA with info from the cell above\n",
    "        df_composition = df_composition.fillna(method='ffill')\n",
    "        \n",
    "        # rename columns\n",
    "        df_composition.columns = ['product_id', 'composition', 'fit']\n",
    "        df_composition['product_name'] = product_name\n",
    "        df_composition['product_price'] = product_price\n",
    "        \n",
    "        # merge composition and color dataframes\n",
    "        df_composition = pd.merge(df_composition, df_color, how='left', on='product_id')\n",
    "        \n",
    "\n",
    "        # all products details\n",
    "        df_composition_s = pd.concat([df_composition_s, df_composition], axis=0)\n",
    "    \n",
    "# extract style id and article id from product_id\n",
    "# generate style id + composition id\n",
    "df_composition_s['style_id'] = df_composition_s['product_id'].apply(lambda x: x[:-3])\n",
    "df_composition_s['article_id'] = df_composition_s['product_id'].apply(lambda x: x[-3:])\n",
    "\n",
    "# scrapy datetime\n",
    "df_composition_s['scrapy_datetime'] = datetime.now().strftime('%Y-%m-%d %H:%M:%S')"
   ]
  },
  {
   "cell_type": "code",
   "execution_count": 5,
   "id": "f5969047",
   "metadata": {
    "ExecuteTime": {
     "end_time": "2022-03-22T22:18:23.286124Z",
     "start_time": "2022-03-22T22:18:23.271732Z"
    }
   },
   "outputs": [
    {
     "data": {
      "text/plain": [
       "(1702, 9)"
      ]
     },
     "execution_count": 5,
     "metadata": {},
     "output_type": "execute_result"
    }
   ],
   "source": [
    "df_composition_s.shape"
   ]
  },
  {
   "cell_type": "code",
   "execution_count": 6,
   "id": "638cfd7d",
   "metadata": {
    "ExecuteTime": {
     "end_time": "2022-03-22T22:18:23.301906Z",
     "start_time": "2022-03-22T22:18:23.287105Z"
    }
   },
   "outputs": [
    {
     "data": {
      "text/plain": [
       "125"
      ]
     },
     "execution_count": 6,
     "metadata": {},
     "output_type": "execute_result"
    }
   ],
   "source": [
    "len(df_composition_s['product_id'].unique())"
   ]
  },
  {
   "cell_type": "markdown",
   "id": "86f1eadc",
   "metadata": {},
   "source": [
    "### <font color = '#D8218C'> Data Cleaning </font>"
   ]
  },
  {
   "cell_type": "code",
   "execution_count": 7,
   "id": "25f15698",
   "metadata": {
    "ExecuteTime": {
     "end_time": "2022-03-22T22:18:23.438127Z",
     "start_time": "2022-03-22T22:18:23.302904Z"
    }
   },
   "outputs": [
    {
     "data": {
      "text/plain": [
       "(125, 12)"
      ]
     },
     "execution_count": 7,
     "metadata": {},
     "output_type": "execute_result"
    }
   ],
   "source": [
    "df_data = df_composition_s\n",
    "\n",
    "# product_name\n",
    "df_data['product_name'] = df_data['product_name'].str.replace('\\n', '')\n",
    "df_data['product_name'] = df_data['product_name'].str.replace('\\t  ', '')\n",
    "df_data['product_name'] = df_data['product_name'].str.replace('\\t', '')\n",
    "df_data['product_name'] = df_data['product_name'].str.replace(' ', '_').str.lower() \n",
    "\n",
    "# product_price\n",
    "df_data['product_price'] = df_data['product_price'].astype(float)\n",
    "\n",
    "# product_color\n",
    "df_data['product_colors'] = df_data['product_colors'].str.replace(' ', '_').str.replace('/', '_').str.lower()\n",
    "\n",
    "# fit\n",
    "df_data['fit'] = df_data['fit'].apply(lambda x: x.replace(' ', '_').lower() if pd.notnull(x) else x)\n",
    "\n",
    "# =============== Column 'composition' has several information ======================\n",
    "\n",
    "# break the actual column 'composition' by comma into a new dataframe, df1\n",
    "df1 = df_data['composition'].str.split(',', expand=True).reset_index(drop=True)\n",
    "\n",
    "# create a new empty dataframe with the columns from 'composition': cotton | polyester | spandex | elastomultiester \n",
    "# same len as data\n",
    "df_ref = pd.DataFrame(index=np.arange(len(df_data)), columns=['cotton', 'polyester', 'spandex', 'elastomultiester'])\n",
    "\n",
    "# fill up and attach df_ref to data column by column:\n",
    "\n",
    "# check the unique values\n",
    "df1[0].unique() # it shows cotton, polyester\n",
    "df1[1].unique() # cotton, spandex, elastomultiester \n",
    "df1[2].unique() # spandex\n",
    "\n",
    "# -------------- cotton --------------\n",
    "\n",
    "df_cotton_0 = df1.loc[df1[0].str.contains('Cotton', na=True), 0]\n",
    "df_cotton_0.name = 'cotton'\n",
    "df_cotton_1 = df1.loc[df1[1].str.contains('Cotton', na=True), 1]\n",
    "df_cotton_1.name = 'cotton'\n",
    "\n",
    "df_cotton = df_cotton_0.combine_first(df_cotton_1)  # combine cotton\n",
    "\n",
    "df_ref = pd.concat([df_ref, df_cotton], axis=1)     # concatenate with df_ref\n",
    "df_ref = df_ref.iloc[:, ~df_ref.columns.duplicated(keep='last')]\n",
    "\n",
    "# -------------- polyester --------------\n",
    "\n",
    "df_polyester = df1.loc[df1[0].str.contains('Polyester', na=True), 0]\n",
    "df_polyester.name = 'polyester'\n",
    "\n",
    "df_ref = pd.concat([df_ref, df_polyester], axis=1)     # concatenate with df_ref\n",
    "df_ref = df_ref.iloc[:, ~df_ref.columns.duplicated(keep='last')]\n",
    "\n",
    "# -------------- spandex --------------\n",
    "\n",
    "df_spandex_1 = df1.loc[df1[1].str.contains('Spandex', na=True), 1]\n",
    "df_spandex_1.name = 'spandex'\n",
    "df_spandex_2 = df1.loc[df1[2].str.contains('Spandex', na=True), 2]\n",
    "df_spandex_2.name = 'spandex'\n",
    "\n",
    "df_spandex = df_spandex_1.combine_first(df_spandex_2)  # combine spandex\n",
    "\n",
    "df_ref = pd.concat([df_ref, df_spandex], axis=1)     # concatenate with df_ref\n",
    "df_ref = df_ref.iloc[:, ~df_ref.columns.duplicated(keep='last')]\n",
    "\n",
    "# -------------- elastomultiester --------------\n",
    "\n",
    "df_elastomultiester = df1.loc[df1[1].str.contains('Elastomultiester', na=True), 1]\n",
    "df_elastomultiester.name = 'elastomultiester'\n",
    "\n",
    "df_ref = pd.concat([df_ref, df_elastomultiester], axis=1)     # concatenate with df_ref\n",
    "df_ref = df_ref.iloc[:, ~df_ref.columns.duplicated(keep='last')]\n",
    "\n",
    "\n",
    "# join of composition combined with product_id\n",
    "df_aux = pd.concat([df_data['product_id'].reset_index(drop=True), df_ref], axis=1) \n",
    "\n",
    "#format composition data\n",
    "df_aux['cotton'] = df_aux['cotton'].apply(lambda x: int(re.search('\\d+', x).group(0))/100 if pd.notnull(x) else x)\n",
    "df_aux['polyester'] = df_aux['polyester'].apply(lambda x: int(re.search('\\d+', x).group(0))/100 if pd.notnull(x) else x)\n",
    "df_aux['spandex'] = df_aux['spandex'].apply(lambda x: int(re.search('\\d+', x).group(0))/100 if pd.notnull(x) else x)\n",
    "df_aux['elastomultiester'] = df_aux['elastomultiester'].apply(lambda x: int(re.search('\\d+', x).group(0))/100 if pd.notnull(x) else x)\n",
    "\n",
    "# final join\n",
    "df_aux = df_aux.groupby('product_id').max().reset_index().fillna(0) # chooses max value of each column to keep\n",
    "df_data = pd.merge(df_data, df_aux, on='product_id', how='left')\n",
    "\n",
    "# drop columns\n",
    "df_data = df_data.drop(columns=['composition'], axis=1)\n",
    "\n",
    "# drop duplicates\n",
    "df_data = df_data.drop_duplicates()\n",
    "\n",
    "# reset index\n",
    "df_data = df_data.reset_index(drop=True)\n",
    "\n",
    "df_data.shape"
   ]
  },
  {
   "cell_type": "markdown",
   "id": "9d46fb83",
   "metadata": {},
   "source": [
    "### <font color = '#D8218C'> Data Insert </font>"
   ]
  },
  {
   "cell_type": "code",
   "execution_count": 8,
   "id": "b16ce6b5",
   "metadata": {
    "ExecuteTime": {
     "end_time": "2022-03-22T22:18:23.454770Z",
     "start_time": "2022-03-22T22:18:23.439126Z"
    }
   },
   "outputs": [],
   "source": [
    "data_insert = df_data[[\n",
    "    'product_id',\n",
    "    'style_id',\n",
    "    'article_id',\n",
    "    'product_name',\n",
    "    'product_colors',\n",
    "    'fit',\n",
    "    'product_price',\n",
    "    'cotton',\n",
    "    'polyester',\n",
    "    'spandex',\n",
    "    'elastomultiester',\n",
    "    'scrapy_datetime'  \n",
    "]]"
   ]
  },
  {
   "cell_type": "code",
   "execution_count": 9,
   "id": "db5df846",
   "metadata": {
    "ExecuteTime": {
     "end_time": "2022-03-22T22:18:23.471336Z",
     "start_time": "2022-03-22T22:18:23.458919Z"
    }
   },
   "outputs": [],
   "source": [
    "# query_showroom_schema = \"\"\"\n",
    "#     CREATE TABLE showroom(\n",
    "#         product_id          TEXT, \n",
    "#         style_id            TEXT, \n",
    "#         article_id          TEXT, \n",
    "#         product_name        TEXT, \n",
    "#         product_colors      TEXT,\n",
    "#         fit                 TEXT,\n",
    "#         product_price       REAL,\n",
    "#         cotton              REAL,\n",
    "#         polyester           REAL,\n",
    "#         spandex             REAL,\n",
    "#         elastomultiester    REAL,\n",
    "#         scrapy_datetime     TEXT\n",
    "#     )\n",
    "# \"\"\""
   ]
  },
  {
   "cell_type": "code",
   "execution_count": null,
   "id": "5b12d541",
   "metadata": {
    "ExecuteTime": {
     "end_time": "2022-03-22T22:18:23.670493Z",
     "start_time": "2022-03-22T22:18:23.474278Z"
    }
   },
   "outputs": [],
   "source": [
    "# create table\n",
    "conn = sqlite3.connect('database_hm.sqlite')\n",
    "cursor = conn.execute(query_showroom_schema)\n",
    "conn.commit()"
   ]
  },
  {
   "cell_type": "code",
   "execution_count": null,
   "id": "84b966a9",
   "metadata": {
    "ExecuteTime": {
     "end_time": "2022-03-22T22:18:23.675425Z",
     "start_time": "2022-03-22T22:18:23.675425Z"
    }
   },
   "outputs": [],
   "source": [
    "# create database connection\n",
    "conn = create_engine('sqlite:///database_hm.sqlite', echo=False)\n",
    "\n",
    "# data insert\n",
    "data_insert.to_sql('showroom', con=conn, if_exists='append', index=False)"
   ]
  }
 ],
 "metadata": {
  "kernelspec": {
   "display_name": "Python 3 (ipykernel)",
   "language": "python",
   "name": "python3"
  },
  "language_info": {
   "codemirror_mode": {
    "name": "ipython",
    "version": 3
   },
   "file_extension": ".py",
   "mimetype": "text/x-python",
   "name": "python",
   "nbconvert_exporter": "python",
   "pygments_lexer": "ipython3",
   "version": "3.7.9"
  },
  "varInspector": {
   "cols": {
    "lenName": 16,
    "lenType": 16,
    "lenVar": 40
   },
   "kernels_config": {
    "python": {
     "delete_cmd_postfix": "",
     "delete_cmd_prefix": "del ",
     "library": "var_list.py",
     "varRefreshCmd": "print(var_dic_list())"
    },
    "r": {
     "delete_cmd_postfix": ") ",
     "delete_cmd_prefix": "rm(",
     "library": "var_list.r",
     "varRefreshCmd": "cat(var_dic_list()) "
    }
   },
   "types_to_exclude": [
    "module",
    "function",
    "builtin_function_or_method",
    "instance",
    "_Feature"
   ],
   "window_display": false
  }
 },
 "nbformat": 4,
 "nbformat_minor": 5
}
