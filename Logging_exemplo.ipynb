{
 "cells": [
  {
   "cell_type": "code",
   "execution_count": 1,
   "id": "bb9de374",
   "metadata": {
    "ExecuteTime": {
     "end_time": "2022-03-21T00:54:31.564136Z",
     "start_time": "2022-03-21T00:54:31.547296Z"
    }
   },
   "outputs": [],
   "source": [
    "import os\n",
    "import logging"
   ]
  },
  {
   "cell_type": "code",
   "execution_count": 2,
   "id": "5ee4503c",
   "metadata": {
    "ExecuteTime": {
     "end_time": "2022-03-21T00:54:31.580077Z",
     "start_time": "2022-03-21T00:54:31.570106Z"
    }
   },
   "outputs": [],
   "source": [
    "if not os.path.exists('Logs'):\n",
    "    os.makedirs('Logs')"
   ]
  },
  {
   "cell_type": "code",
   "execution_count": 3,
   "id": "9e58bc19",
   "metadata": {
    "ExecuteTime": {
     "end_time": "2022-03-21T00:54:31.597255Z",
     "start_time": "2022-03-21T00:54:31.582158Z"
    }
   },
   "outputs": [],
   "source": [
    "logging.basicConfig(\n",
    "    filename='Logs/webscrapping_hm.txt',\n",
    "    format='%(asctime)s - %(levelname)s - %(name)s - %(message)s',\n",
    "    datefmt='%Y-%m-%d %H:%M:%S',\n",
    "    level=logging.DEBUG)\n",
    "\n",
    "logger = logging.getLogger('webscrapping_HM')"
   ]
  },
  {
   "cell_type": "code",
   "execution_count": 4,
   "id": "1c0f251a",
   "metadata": {
    "ExecuteTime": {
     "end_time": "2022-03-21T00:54:31.612964Z",
     "start_time": "2022-03-21T00:54:31.599285Z"
    }
   },
   "outputs": [],
   "source": [
    "# logging.debug('O valor da variavel x eh %s', 10)\n",
    "# logging.info('Essa eh a iteracao de numero ')\n",
    "# logging.warning('Esse ponto do codigo deve ser melhorado')\n",
    "\n",
    "# replace logging pelo logger definido acima\n",
    "logger.debug('O valor da variavel x eh %s', 10)\n",
    "logger.info('Essa eh a iteracao de numero ')\n",
    "logger.warning('Esse ponto do codigo deve ser melhorado')"
   ]
  }
 ],
 "metadata": {
  "kernelspec": {
   "display_name": "Python 3 (ipykernel)",
   "language": "python",
   "name": "python3"
  },
  "language_info": {
   "codemirror_mode": {
    "name": "ipython",
    "version": 3
   },
   "file_extension": ".py",
   "mimetype": "text/x-python",
   "name": "python",
   "nbconvert_exporter": "python",
   "pygments_lexer": "ipython3",
   "version": "3.7.9"
  },
  "varInspector": {
   "cols": {
    "lenName": 16,
    "lenType": 16,
    "lenVar": 40
   },
   "kernels_config": {
    "python": {
     "delete_cmd_postfix": "",
     "delete_cmd_prefix": "del ",
     "library": "var_list.py",
     "varRefreshCmd": "print(var_dic_list())"
    },
    "r": {
     "delete_cmd_postfix": ") ",
     "delete_cmd_prefix": "rm(",
     "library": "var_list.r",
     "varRefreshCmd": "cat(var_dic_list()) "
    }
   },
   "types_to_exclude": [
    "module",
    "function",
    "builtin_function_or_method",
    "instance",
    "_Feature"
   ],
   "window_display": false
  }
 },
 "nbformat": 4,
 "nbformat_minor": 5
}
