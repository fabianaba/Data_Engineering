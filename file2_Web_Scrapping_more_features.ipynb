{
 "cells": [
  {
   "cell_type": "code",
   "execution_count": 2,
   "id": "222f3994",
   "metadata": {
    "ExecuteTime": {
     "end_time": "2022-02-28T01:46:29.020999Z",
     "start_time": "2022-02-28T01:46:28.411954Z"
    }
   },
   "outputs": [],
   "source": [
    "from bs4 import BeautifulSoup\n",
    "from datetime import datetime\n",
    "import requests\n",
    "import pandas as pd\n",
    "import numpy as np"
   ]
  },
  {
   "cell_type": "markdown",
   "id": "0b3bcaa2",
   "metadata": {},
   "source": [
    "# Competitor's Web Scraping"
   ]
  },
  {
   "cell_type": "markdown",
   "id": "20620fc9",
   "metadata": {},
   "source": [
    "## H&M - Men - Jeans - showroom (main) page"
   ]
  },
  {
   "cell_type": "code",
   "execution_count": 3,
   "id": "092083e3",
   "metadata": {
    "ExecuteTime": {
     "end_time": "2022-02-28T01:46:29.039880Z",
     "start_time": "2022-02-28T01:46:29.024460Z"
    }
   },
   "outputs": [],
   "source": [
    "url = 'https://www2.hm.com/en_us/men/products/jeans.html'"
   ]
  },
  {
   "cell_type": "code",
   "execution_count": 4,
   "id": "1a20a640",
   "metadata": {
    "ExecuteTime": {
     "end_time": "2022-02-28T01:46:29.055160Z",
     "start_time": "2022-02-28T01:46:29.041881Z"
    }
   },
   "outputs": [],
   "source": [
    "headers = {'User-Agent': 'Mozilla/5.0 (Windows NT 10.0; Win64; x64; rv:97.0) Gecko/20100101 Firefox/97.0'}\n",
    "# encontro esse user-agent da linha acima em http://developers.whatismybrowser.com/"
   ]
  },
  {
   "cell_type": "code",
   "execution_count": 5,
   "id": "403b4177",
   "metadata": {
    "ExecuteTime": {
     "end_time": "2022-02-28T01:46:29.704204Z",
     "start_time": "2022-02-28T01:46:29.056159Z"
    }
   },
   "outputs": [],
   "source": [
    "page = requests.get(url, headers=headers)"
   ]
  },
  {
   "cell_type": "code",
   "execution_count": 6,
   "id": "933b70ef",
   "metadata": {
    "ExecuteTime": {
     "end_time": "2022-02-28T01:46:29.906799Z",
     "start_time": "2022-02-28T01:46:29.706199Z"
    }
   },
   "outputs": [],
   "source": [
    "soup = BeautifulSoup(page.text, 'html.parser')"
   ]
  },
  {
   "cell_type": "code",
   "execution_count": 7,
   "id": "e46424ba",
   "metadata": {
    "ExecuteTime": {
     "end_time": "2022-02-28T01:46:29.922704Z",
     "start_time": "2022-02-28T01:46:29.908805Z"
    }
   },
   "outputs": [],
   "source": [
    "products = soup.find('ul', class_='products-listing small')  # not find_all because I want only the first "
   ]
  },
  {
   "cell_type": "code",
   "execution_count": 8,
   "id": "9d8c9857",
   "metadata": {
    "ExecuteTime": {
     "end_time": "2022-02-28T01:46:29.939932Z",
     "start_time": "2022-02-28T01:46:29.923805Z"
    }
   },
   "outputs": [],
   "source": [
    "product_list = products.find_all('article', class_='hm-product-item')"
   ]
  },
  {
   "cell_type": "code",
   "execution_count": 9,
   "id": "bf15fafe",
   "metadata": {
    "ExecuteTime": {
     "end_time": "2022-02-28T01:46:29.955146Z",
     "start_time": "2022-02-28T01:46:29.942928Z"
    }
   },
   "outputs": [],
   "source": [
    "# fazer um laco for que percorre a lista aplicando o metodo get sobre o \"data-articlecode\"\n",
    "# escrevendo o for numa linha unica de codigo que vai retornar uma lista\n",
    "\n",
    "# product_id\n",
    "product_id = [p.get('data-articlecode') for p in product_list]\n",
    "\n",
    "# product_category\n",
    "product_category = [p.get('data-category') for p in product_list]"
   ]
  },
  {
   "cell_type": "code",
   "execution_count": 10,
   "id": "690f5ea3",
   "metadata": {
    "ExecuteTime": {
     "end_time": "2022-02-28T01:46:29.972454Z",
     "start_time": "2022-02-28T01:46:29.956144Z"
    }
   },
   "outputs": [],
   "source": [
    "# product_name\n",
    "product_list = products.find_all('a', class_='link')\n",
    "product_name = [p.get_text() for p in product_list]"
   ]
  },
  {
   "cell_type": "code",
   "execution_count": 11,
   "id": "337d421a",
   "metadata": {
    "ExecuteTime": {
     "end_time": "2022-02-28T01:46:29.989926Z",
     "start_time": "2022-02-28T01:46:29.974450Z"
    }
   },
   "outputs": [],
   "source": [
    "# price\n",
    "product_list = products.find_all('span', class_='price regular')\n",
    "product_price = [p.get_text() for p in product_list]"
   ]
  },
  {
   "cell_type": "code",
   "execution_count": 12,
   "id": "a5dcb8c6",
   "metadata": {
    "ExecuteTime": {
     "end_time": "2022-02-28T01:46:30.006610Z",
     "start_time": "2022-02-28T01:46:29.991922Z"
    }
   },
   "outputs": [],
   "source": [
    "data = pd.DataFrame([product_id, product_category, product_name, product_price]).T\n",
    "data.columns = ['product_id', 'product_category', 'product_name', 'product_price']"
   ]
  },
  {
   "cell_type": "code",
   "execution_count": 13,
   "id": "71a58630",
   "metadata": {
    "ExecuteTime": {
     "end_time": "2022-02-28T01:46:30.039932Z",
     "start_time": "2022-02-28T01:46:30.009680Z"
    }
   },
   "outputs": [
    {
     "data": {
      "text/html": [
       "<div>\n",
       "<style scoped>\n",
       "    .dataframe tbody tr th:only-of-type {\n",
       "        vertical-align: middle;\n",
       "    }\n",
       "\n",
       "    .dataframe tbody tr th {\n",
       "        vertical-align: top;\n",
       "    }\n",
       "\n",
       "    .dataframe thead th {\n",
       "        text-align: right;\n",
       "    }\n",
       "</style>\n",
       "<table border=\"1\" class=\"dataframe\">\n",
       "  <thead>\n",
       "    <tr style=\"text-align: right;\">\n",
       "      <th></th>\n",
       "      <th>product_id</th>\n",
       "      <th>product_category</th>\n",
       "      <th>product_name</th>\n",
       "      <th>product_price</th>\n",
       "    </tr>\n",
       "  </thead>\n",
       "  <tbody>\n",
       "    <tr>\n",
       "      <th>0</th>\n",
       "      <td>1024256001</td>\n",
       "      <td>men_jeans_slim</td>\n",
       "      <td>Slim Jeans</td>\n",
       "      <td>$ 19.99</td>\n",
       "    </tr>\n",
       "    <tr>\n",
       "      <th>1</th>\n",
       "      <td>1008549006</td>\n",
       "      <td>men_jeans_regular</td>\n",
       "      <td>Regular Jeans</td>\n",
       "      <td>$ 19.99</td>\n",
       "    </tr>\n",
       "    <tr>\n",
       "      <th>2</th>\n",
       "      <td>1024256002</td>\n",
       "      <td>men_jeans_slim</td>\n",
       "      <td>Slim Jeans</td>\n",
       "      <td>$ 19.99</td>\n",
       "    </tr>\n",
       "    <tr>\n",
       "      <th>3</th>\n",
       "      <td>0690449043</td>\n",
       "      <td>men_jeans_ripped</td>\n",
       "      <td>Skinny Jeans</td>\n",
       "      <td>$ 39.99</td>\n",
       "    </tr>\n",
       "    <tr>\n",
       "      <th>4</th>\n",
       "      <td>0690449051</td>\n",
       "      <td>men_jeans_ripped</td>\n",
       "      <td>Skinny Jeans</td>\n",
       "      <td>$ 39.99</td>\n",
       "    </tr>\n",
       "  </tbody>\n",
       "</table>\n",
       "</div>"
      ],
      "text/plain": [
       "   product_id   product_category   product_name product_price\n",
       "0  1024256001     men_jeans_slim     Slim Jeans       $ 19.99\n",
       "1  1008549006  men_jeans_regular  Regular Jeans       $ 19.99\n",
       "2  1024256002     men_jeans_slim     Slim Jeans       $ 19.99\n",
       "3  0690449043   men_jeans_ripped   Skinny Jeans       $ 39.99\n",
       "4  0690449051   men_jeans_ripped   Skinny Jeans       $ 39.99"
      ]
     },
     "execution_count": 13,
     "metadata": {},
     "output_type": "execute_result"
    }
   ],
   "source": [
    "data.head()"
   ]
  },
  {
   "cell_type": "code",
   "execution_count": 36,
   "id": "12d9f5b9",
   "metadata": {
    "ExecuteTime": {
     "end_time": "2022-02-28T02:45:11.563499Z",
     "start_time": "2022-02-28T02:45:11.543896Z"
    }
   },
   "outputs": [
    {
     "data": {
      "text/html": [
       "<div>\n",
       "<style scoped>\n",
       "    .dataframe tbody tr th:only-of-type {\n",
       "        vertical-align: middle;\n",
       "    }\n",
       "\n",
       "    .dataframe tbody tr th {\n",
       "        vertical-align: top;\n",
       "    }\n",
       "\n",
       "    .dataframe thead th {\n",
       "        text-align: right;\n",
       "    }\n",
       "</style>\n",
       "<table border=\"1\" class=\"dataframe\">\n",
       "  <thead>\n",
       "    <tr style=\"text-align: right;\">\n",
       "      <th></th>\n",
       "      <th>product_id</th>\n",
       "      <th>product_category</th>\n",
       "      <th>product_name</th>\n",
       "      <th>product_price</th>\n",
       "      <th>style_id</th>\n",
       "      <th>color_id</th>\n",
       "    </tr>\n",
       "  </thead>\n",
       "  <tbody>\n",
       "    <tr>\n",
       "      <th>0</th>\n",
       "      <td>1024256001</td>\n",
       "      <td>men_jeans_slim</td>\n",
       "      <td>Slim Jeans</td>\n",
       "      <td>$ 19.99</td>\n",
       "      <td>1024256</td>\n",
       "      <td>001</td>\n",
       "    </tr>\n",
       "    <tr>\n",
       "      <th>1</th>\n",
       "      <td>1008549006</td>\n",
       "      <td>men_jeans_regular</td>\n",
       "      <td>Regular Jeans</td>\n",
       "      <td>$ 19.99</td>\n",
       "      <td>1008549</td>\n",
       "      <td>006</td>\n",
       "    </tr>\n",
       "    <tr>\n",
       "      <th>2</th>\n",
       "      <td>1024256002</td>\n",
       "      <td>men_jeans_slim</td>\n",
       "      <td>Slim Jeans</td>\n",
       "      <td>$ 19.99</td>\n",
       "      <td>1024256</td>\n",
       "      <td>002</td>\n",
       "    </tr>\n",
       "    <tr>\n",
       "      <th>3</th>\n",
       "      <td>0690449043</td>\n",
       "      <td>men_jeans_ripped</td>\n",
       "      <td>Skinny Jeans</td>\n",
       "      <td>$ 39.99</td>\n",
       "      <td>0690449</td>\n",
       "      <td>043</td>\n",
       "    </tr>\n",
       "    <tr>\n",
       "      <th>4</th>\n",
       "      <td>0690449051</td>\n",
       "      <td>men_jeans_ripped</td>\n",
       "      <td>Skinny Jeans</td>\n",
       "      <td>$ 39.99</td>\n",
       "      <td>0690449</td>\n",
       "      <td>051</td>\n",
       "    </tr>\n",
       "  </tbody>\n",
       "</table>\n",
       "</div>"
      ],
      "text/plain": [
       "   product_id   product_category   product_name product_price style_id  \\\n",
       "0  1024256001     men_jeans_slim     Slim Jeans       $ 19.99  1024256   \n",
       "1  1008549006  men_jeans_regular  Regular Jeans       $ 19.99  1008549   \n",
       "2  1024256002     men_jeans_slim     Slim Jeans       $ 19.99  1024256   \n",
       "3  0690449043   men_jeans_ripped   Skinny Jeans       $ 39.99  0690449   \n",
       "4  0690449051   men_jeans_ripped   Skinny Jeans       $ 39.99  0690449   \n",
       "\n",
       "  color_id  \n",
       "0      001  \n",
       "1      006  \n",
       "2      002  \n",
       "3      043  \n",
       "4      051  "
      ]
     },
     "execution_count": 36,
     "metadata": {},
     "output_type": "execute_result"
    }
   ],
   "source": [
    "data['style_id'] = data['product_id'].apply(lambda x: x[:-3])\n",
    "data['color_id'] = data['product_id'].apply(lambda x: x[-3:])\n",
    "data.head()"
   ]
  },
  {
   "cell_type": "markdown",
   "id": "4963e030",
   "metadata": {},
   "source": [
    "## H&M - Men - Jeans - product individual pages"
   ]
  },
  {
   "cell_type": "code",
   "execution_count": 15,
   "id": "ab234076",
   "metadata": {
    "ExecuteTime": {
     "end_time": "2022-02-28T01:46:30.955486Z",
     "start_time": "2022-02-28T01:46:30.058445Z"
    }
   },
   "outputs": [
    {
     "data": {
      "text/html": [
       "<div>\n",
       "<style scoped>\n",
       "    .dataframe tbody tr th:only-of-type {\n",
       "        vertical-align: middle;\n",
       "    }\n",
       "\n",
       "    .dataframe tbody tr th {\n",
       "        vertical-align: top;\n",
       "    }\n",
       "\n",
       "    .dataframe thead th {\n",
       "        text-align: right;\n",
       "    }\n",
       "</style>\n",
       "<table border=\"1\" class=\"dataframe\">\n",
       "  <thead>\n",
       "    <tr style=\"text-align: right;\">\n",
       "      <th></th>\n",
       "      <th>product_id</th>\n",
       "      <th>product_colors</th>\n",
       "      <th>style_id</th>\n",
       "      <th>color_id</th>\n",
       "      <th>Fit</th>\n",
       "      <th>Composition</th>\n",
       "    </tr>\n",
       "  </thead>\n",
       "  <tbody>\n",
       "    <tr>\n",
       "      <th>0</th>\n",
       "      <td>0985159002</td>\n",
       "      <td>Denim blue</td>\n",
       "      <td>0985159</td>\n",
       "      <td>002</td>\n",
       "      <td>Skinny fit</td>\n",
       "      <td>Shell: Cotton 99%, Spandex 1%</td>\n",
       "    </tr>\n",
       "    <tr>\n",
       "      <th>1</th>\n",
       "      <td>0985159002</td>\n",
       "      <td>Denim blue</td>\n",
       "      <td>0985159</td>\n",
       "      <td>002</td>\n",
       "      <td>Skinny fit</td>\n",
       "      <td>Pocket lining: Cotton 100%</td>\n",
       "    </tr>\n",
       "    <tr>\n",
       "      <th>2</th>\n",
       "      <td>0985159003</td>\n",
       "      <td>Dark gray</td>\n",
       "      <td>0985159</td>\n",
       "      <td>003</td>\n",
       "      <td>Skinny fit</td>\n",
       "      <td>Shell: Cotton 99%, Spandex 1%</td>\n",
       "    </tr>\n",
       "    <tr>\n",
       "      <th>3</th>\n",
       "      <td>0985159003</td>\n",
       "      <td>Dark gray</td>\n",
       "      <td>0985159</td>\n",
       "      <td>003</td>\n",
       "      <td>Skinny fit</td>\n",
       "      <td>Pocket lining: Cotton 100%</td>\n",
       "    </tr>\n",
       "    <tr>\n",
       "      <th>4</th>\n",
       "      <td>0985159004</td>\n",
       "      <td>Light denim blue</td>\n",
       "      <td>0985159</td>\n",
       "      <td>004</td>\n",
       "      <td>Skinny fit</td>\n",
       "      <td>Shell: Cotton 99%, Spandex 1%</td>\n",
       "    </tr>\n",
       "  </tbody>\n",
       "</table>\n",
       "</div>"
      ],
      "text/plain": [
       "   product_id    product_colors style_id color_id         Fit  \\\n",
       "0  0985159002        Denim blue  0985159      002  Skinny fit   \n",
       "1  0985159002        Denim blue  0985159      002  Skinny fit   \n",
       "2  0985159003         Dark gray  0985159      003  Skinny fit   \n",
       "3  0985159003         Dark gray  0985159      003  Skinny fit   \n",
       "4  0985159004  Light denim blue  0985159      004  Skinny fit   \n",
       "\n",
       "                     Composition  \n",
       "0  Shell: Cotton 99%, Spandex 1%  \n",
       "1     Pocket lining: Cotton 100%  \n",
       "2  Shell: Cotton 99%, Spandex 1%  \n",
       "3     Pocket lining: Cotton 100%  \n",
       "4  Shell: Cotton 99%, Spandex 1%  "
      ]
     },
     "execution_count": 15,
     "metadata": {},
     "output_type": "execute_result"
    }
   ],
   "source": [
    "# API Requests\n",
    "\n",
    "# example of a product page\n",
    "url_3 = 'https://www2.hm.com/en_us/productpage.0985159001.html'\n",
    "\n",
    "page = requests.get(url_3, headers=headers)\n",
    "\n",
    "# Beautiful Soup object\n",
    "soup = BeautifulSoup(page.text, 'html.parser')\n",
    "\n",
    "# ================ Product Color ==================\n",
    "\n",
    "gen_color_list = soup.find_all('a', class_='filter-option miniature')\n",
    "\n",
    "# product colors\n",
    "product_colors = [c.get('data-color') for c in gen_color_list]\n",
    "\n",
    "# product id\n",
    "product_id = [c.get('data-articlecode') for c in gen_color_list]\n",
    "\n",
    "# dataframe color\n",
    "df_color = pd.DataFrame(list(zip(product_id, product_colors)))\n",
    "df_color.columns = ['product_id', 'product_colors']\n",
    "df_color.head()\n",
    "\n",
    "# generate style id + color id\n",
    "df_color['style_id'] = df_color['product_id'].apply(lambda x: x[:-3])\n",
    "df_color['color_id'] = df_color['product_id'].apply(lambda x: x[-3:])\n",
    "df_color.head()\n",
    "\n",
    "# ================ Product Composition ==================\n",
    "\n",
    "gen_composition_list = soup.find_all('div', class_='details-attributes-list-item')\n",
    "gen_composition = [list(filter(None, d.get_text().split('\\n'))) for d in gen_composition_list]\n",
    "gen_composition\n",
    "\n",
    "del gen_composition[5]\n",
    "\n",
    "df_composition = pd.DataFrame(gen_composition).T\n",
    "\n",
    "# rename column names\n",
    "df_composition.columns = df_composition.iloc[0]\n",
    "\n",
    "# delete first row\n",
    "df_composition = df_composition.iloc[1:]\n",
    "\n",
    "df_composition = df_composition.loc[:, ['Fit', 'Composition', 'Art. No.']]\n",
    "\n",
    "# fill NA with info from the row above\n",
    "df_composition = df_composition.fillna(method='ffill')\n",
    "\n",
    "# extract style id and article id from product_id\n",
    "# generate style id + composition id\n",
    "df_composition['style_id'] = df_composition['Art. No.'].apply(lambda x: x[:-3])\n",
    "df_composition['article_id'] = df_composition['Art. No.'].apply(lambda x: x[-3:])\n",
    "df_composition.head()\n",
    "\n",
    "# Merge color and composition dataframes\n",
    "data_sku = pd.merge(df_color, df_composition[['style_id', 'Fit', 'Composition']], how='left', on='style_id')\n",
    "data_sku.head()\n"
   ]
  },
  {
   "cell_type": "markdown",
   "id": "e8ffc10a",
   "metadata": {},
   "source": [
    "### H&M - Men - Jeans - multiple pages¶"
   ]
  },
  {
   "cell_type": "code",
   "execution_count": 16,
   "id": "c9e0f755",
   "metadata": {
    "ExecuteTime": {
     "end_time": "2022-02-28T01:46:30.971988Z",
     "start_time": "2022-02-28T01:46:30.957488Z"
    }
   },
   "outputs": [],
   "source": [
    "# product_url = ['https://www2.hm.com/en_us/productpage.' + str(p) + '.html' for p in product_id]"
   ]
  },
  {
   "cell_type": "code",
   "execution_count": 34,
   "id": "16343a76",
   "metadata": {
    "ExecuteTime": {
     "end_time": "2022-02-28T02:38:17.697991Z",
     "start_time": "2022-02-28T02:37:58.621790Z"
    },
    "code_folding": []
   },
   "outputs": [],
   "source": [
    "# empty dataframe\n",
    "df_details = pd.DataFrame()\n",
    "\n",
    "# empty list to collect names of unique columns for all products composition\n",
    "aux = []\n",
    "\n",
    "# list of columns I selected from set(aux) after all iteractions\n",
    "cols = ['Art. No.', 'Collection', 'Composition', 'Description', 'Fit', 'Imported'] \n",
    "\n",
    "# pattern dataframe with the columns I want to collect from each product if exist\n",
    "df_pattern = pd.DataFrame(columns=cols)\n",
    "\n",
    "for i in range(len(data)):\n",
    "   \n",
    "    # API Requests\n",
    "    url = 'https://www2.hm.com/en_us/productpage.' + data.loc[i, 'product_id'] + '.html'\n",
    "    page = requests.get(url, headers=headers)\n",
    "\n",
    "    # Beautiful Soup object\n",
    "    soup = BeautifulSoup(page.text, 'html.parser')\n",
    "\n",
    "    # ================ Product Color ==================\n",
    "\n",
    "    gen_color_list = soup.find_all('a', class_='filter-option miniature')\n",
    "\n",
    "    # product colors\n",
    "    product_colors = [c.get('data-color') for c in gen_color_list]\n",
    "\n",
    "    # product id\n",
    "    product_id = [c.get('data-articlecode') for c in gen_color_list]\n",
    "\n",
    "    # dataframe color\n",
    "    df_color = pd.DataFrame(list(zip(product_id, product_colors)))\n",
    "    df_color.columns = ['product_id', 'product_colors']\n",
    "\n",
    "    # generate style id + color id\n",
    "    df_color['style_id'] = df_color['product_id'].apply(lambda x: x[:-3])\n",
    "    df_color['color_id'] = df_color['product_id'].apply(lambda x: x[-3:])\n",
    "    \n",
    "\n",
    "    # ================ Product Composition ==================\n",
    "\n",
    "    gen_composition_list = soup.find_all('div', class_='details-attributes-list-item')\n",
    "    gen_composition = [list(filter(None, d.get_text().split('\\n'))) for d in gen_composition_list]\n",
    "    \n",
    "    df_composition = pd.DataFrame(gen_composition).T\n",
    "\n",
    "    # rename column names\n",
    "    df_composition.columns = df_composition.iloc[0]\n",
    "\n",
    "    # delete first row\n",
    "    df_composition = df_composition.iloc[1:]\n",
    "    \n",
    "    # guarantee the same selected columns for all products\n",
    "    aux = aux + df_composition.columns.tolist()\n",
    "    df_composition = pd.concat([df_pattern, df_composition], axis=0)\n",
    "\n",
    "    #df_composition = df_composition.loc[:, ['Fit', 'Composition', 'Art. No.']]\n",
    "\n",
    "    # fill NA with info from the row above\n",
    "    df_composition = df_composition.fillna(method='ffill')\n",
    "\n",
    "    # extract style id and article id from product_id\n",
    "    # generate style id + composition id\n",
    "    df_composition['style_id'] = df_composition['Art. No.'].apply(lambda x: x[:-3])\n",
    "    df_composition['article_id'] = df_composition['Art. No.'].apply(lambda x: x[-3:])\n",
    "    \n",
    "    \n",
    "\n",
    "    # Merge color and composition dataframes\n",
    "    data_sku = pd.merge(df_color, df_composition[['style_id', 'Fit', 'Composition', 'Collection', 'Description', 'Imported']], how='left', on='style_id')\n",
    "\n",
    "    # all product details\n",
    "    df_details = pd.concat([df_details, data_sku], axis=0)\n",
    "    "
   ]
  },
  {
   "cell_type": "code",
   "execution_count": 26,
   "id": "ab4698d6",
   "metadata": {
    "ExecuteTime": {
     "end_time": "2022-02-28T02:10:47.681328Z",
     "start_time": "2022-02-28T02:10:47.660816Z"
    }
   },
   "outputs": [
    {
     "data": {
      "text/plain": [
       "{'Art. No.',\n",
       " 'Care instructions',\n",
       " 'Collection',\n",
       " 'Composition',\n",
       " 'Concept',\n",
       " 'Description',\n",
       " 'Fit',\n",
       " 'Imported',\n",
       " 'Material',\n",
       " 'More sustainable materials',\n",
       " 'Nice to know',\n",
       " 'messages.clothingStyle',\n",
       " 'messages.garmentLength',\n",
       " 'messages.waistRise'}"
      ]
     },
     "execution_count": 26,
     "metadata": {},
     "output_type": "execute_result"
    }
   ],
   "source": [
    "set(aux)"
   ]
  },
  {
   "cell_type": "code",
   "execution_count": 35,
   "id": "dcf488c7",
   "metadata": {
    "ExecuteTime": {
     "end_time": "2022-02-28T02:38:17.713219Z",
     "start_time": "2022-02-28T02:38:17.699986Z"
    }
   },
   "outputs": [
    {
     "data": {
      "text/html": [
       "<div>\n",
       "<style scoped>\n",
       "    .dataframe tbody tr th:only-of-type {\n",
       "        vertical-align: middle;\n",
       "    }\n",
       "\n",
       "    .dataframe tbody tr th {\n",
       "        vertical-align: top;\n",
       "    }\n",
       "\n",
       "    .dataframe thead th {\n",
       "        text-align: right;\n",
       "    }\n",
       "</style>\n",
       "<table border=\"1\" class=\"dataframe\">\n",
       "  <thead>\n",
       "    <tr style=\"text-align: right;\">\n",
       "      <th></th>\n",
       "      <th>product_id</th>\n",
       "      <th>product_colors</th>\n",
       "      <th>style_id</th>\n",
       "      <th>color_id</th>\n",
       "      <th>Fit</th>\n",
       "      <th>Composition</th>\n",
       "      <th>Collection</th>\n",
       "      <th>Description</th>\n",
       "      <th>Imported</th>\n",
       "    </tr>\n",
       "  </thead>\n",
       "  <tbody>\n",
       "    <tr>\n",
       "      <th>0</th>\n",
       "      <td>1024256002</td>\n",
       "      <td>Light denim blue</td>\n",
       "      <td>1024256</td>\n",
       "      <td>002</td>\n",
       "      <td>Slim fit</td>\n",
       "      <td>Pocket lining: Polyester 65%, Cotton 35%</td>\n",
       "      <td>NaN</td>\n",
       "      <td>Black</td>\n",
       "      <td>Yes</td>\n",
       "    </tr>\n",
       "    <tr>\n",
       "      <th>1</th>\n",
       "      <td>1024256002</td>\n",
       "      <td>Light denim blue</td>\n",
       "      <td>1024256</td>\n",
       "      <td>002</td>\n",
       "      <td>Slim fit</td>\n",
       "      <td>Shell: Cotton 99%, Spandex 1%</td>\n",
       "      <td>NaN</td>\n",
       "      <td>Solid-color</td>\n",
       "      <td>Yes</td>\n",
       "    </tr>\n",
       "    <tr>\n",
       "      <th>2</th>\n",
       "      <td>1024256002</td>\n",
       "      <td>Light denim blue</td>\n",
       "      <td>1024256</td>\n",
       "      <td>002</td>\n",
       "      <td>Slim fit</td>\n",
       "      <td>Shell: Cotton 99%, Spandex 1%</td>\n",
       "      <td>NaN</td>\n",
       "      <td>Solid-color</td>\n",
       "      <td>Yes</td>\n",
       "    </tr>\n",
       "    <tr>\n",
       "      <th>3</th>\n",
       "      <td>1024256002</td>\n",
       "      <td>Light denim blue</td>\n",
       "      <td>1024256</td>\n",
       "      <td>002</td>\n",
       "      <td>Slim fit</td>\n",
       "      <td>Shell: Cotton 99%, Spandex 1%</td>\n",
       "      <td>NaN</td>\n",
       "      <td>Solid-color</td>\n",
       "      <td>Yes</td>\n",
       "    </tr>\n",
       "    <tr>\n",
       "      <th>4</th>\n",
       "      <td>1024256002</td>\n",
       "      <td>Light denim blue</td>\n",
       "      <td>1024256</td>\n",
       "      <td>002</td>\n",
       "      <td>Slim fit</td>\n",
       "      <td>Shell: Cotton 99%, Spandex 1%</td>\n",
       "      <td>NaN</td>\n",
       "      <td>Solid-color</td>\n",
       "      <td>Yes</td>\n",
       "    </tr>\n",
       "  </tbody>\n",
       "</table>\n",
       "</div>"
      ],
      "text/plain": [
       "   product_id    product_colors style_id color_id       Fit  \\\n",
       "0  1024256002  Light denim blue  1024256      002  Slim fit   \n",
       "1  1024256002  Light denim blue  1024256      002  Slim fit   \n",
       "2  1024256002  Light denim blue  1024256      002  Slim fit   \n",
       "3  1024256002  Light denim blue  1024256      002  Slim fit   \n",
       "4  1024256002  Light denim blue  1024256      002  Slim fit   \n",
       "\n",
       "                                Composition Collection  Description Imported  \n",
       "0  Pocket lining: Polyester 65%, Cotton 35%        NaN        Black      Yes  \n",
       "1             Shell: Cotton 99%, Spandex 1%        NaN  Solid-color      Yes  \n",
       "2             Shell: Cotton 99%, Spandex 1%        NaN  Solid-color      Yes  \n",
       "3             Shell: Cotton 99%, Spandex 1%        NaN  Solid-color      Yes  \n",
       "4             Shell: Cotton 99%, Spandex 1%        NaN  Solid-color      Yes  "
      ]
     },
     "execution_count": 35,
     "metadata": {},
     "output_type": "execute_result"
    }
   ],
   "source": [
    "df_details.head()"
   ]
  },
  {
   "cell_type": "markdown",
   "id": "07dab906",
   "metadata": {},
   "source": [
    "## Merge data from showroom and product individual pages"
   ]
  },
  {
   "cell_type": "code",
   "execution_count": 40,
   "id": "4c37640c",
   "metadata": {
    "ExecuteTime": {
     "end_time": "2022-02-28T02:57:40.023466Z",
     "start_time": "2022-02-28T02:57:40.001230Z"
    }
   },
   "outputs": [],
   "source": [
    "data_raw = pd.merge(data, df_details[['style_id', 'product_colors', 'Fit', 'Composition', \n",
    "                                      'Collection', 'Description', 'Imported']], how='left', on='style_id')"
   ]
  },
  {
   "cell_type": "code",
   "execution_count": 42,
   "id": "1ba256c6",
   "metadata": {
    "ExecuteTime": {
     "end_time": "2022-02-28T02:59:49.928573Z",
     "start_time": "2022-02-28T02:59:49.909730Z"
    }
   },
   "outputs": [
    {
     "data": {
      "text/html": [
       "<div>\n",
       "<style scoped>\n",
       "    .dataframe tbody tr th:only-of-type {\n",
       "        vertical-align: middle;\n",
       "    }\n",
       "\n",
       "    .dataframe tbody tr th {\n",
       "        vertical-align: top;\n",
       "    }\n",
       "\n",
       "    .dataframe thead th {\n",
       "        text-align: right;\n",
       "    }\n",
       "</style>\n",
       "<table border=\"1\" class=\"dataframe\">\n",
       "  <thead>\n",
       "    <tr style=\"text-align: right;\">\n",
       "      <th></th>\n",
       "      <th>product_id</th>\n",
       "      <th>product_category</th>\n",
       "      <th>product_name</th>\n",
       "      <th>product_price</th>\n",
       "      <th>style_id</th>\n",
       "      <th>color_id</th>\n",
       "      <th>product_colors</th>\n",
       "      <th>Fit</th>\n",
       "      <th>Composition</th>\n",
       "      <th>Collection</th>\n",
       "      <th>Description</th>\n",
       "      <th>Imported</th>\n",
       "    </tr>\n",
       "  </thead>\n",
       "  <tbody>\n",
       "    <tr>\n",
       "      <th>0</th>\n",
       "      <td>1024256001</td>\n",
       "      <td>men_jeans_slim</td>\n",
       "      <td>Slim Jeans</td>\n",
       "      <td>$ 19.99</td>\n",
       "      <td>1024256</td>\n",
       "      <td>001</td>\n",
       "      <td>Light denim blue</td>\n",
       "      <td>Slim fit</td>\n",
       "      <td>Pocket lining: Polyester 65%, Cotton 35%</td>\n",
       "      <td>NaN</td>\n",
       "      <td>Black</td>\n",
       "      <td>Yes</td>\n",
       "    </tr>\n",
       "    <tr>\n",
       "      <th>1</th>\n",
       "      <td>1024256001</td>\n",
       "      <td>men_jeans_slim</td>\n",
       "      <td>Slim Jeans</td>\n",
       "      <td>$ 19.99</td>\n",
       "      <td>1024256</td>\n",
       "      <td>001</td>\n",
       "      <td>Light denim blue</td>\n",
       "      <td>Slim fit</td>\n",
       "      <td>Shell: Cotton 99%, Spandex 1%</td>\n",
       "      <td>NaN</td>\n",
       "      <td>Solid-color</td>\n",
       "      <td>Yes</td>\n",
       "    </tr>\n",
       "    <tr>\n",
       "      <th>2</th>\n",
       "      <td>1024256001</td>\n",
       "      <td>men_jeans_slim</td>\n",
       "      <td>Slim Jeans</td>\n",
       "      <td>$ 19.99</td>\n",
       "      <td>1024256</td>\n",
       "      <td>001</td>\n",
       "      <td>Light denim blue</td>\n",
       "      <td>Slim fit</td>\n",
       "      <td>Shell: Cotton 99%, Spandex 1%</td>\n",
       "      <td>NaN</td>\n",
       "      <td>Solid-color</td>\n",
       "      <td>Yes</td>\n",
       "    </tr>\n",
       "    <tr>\n",
       "      <th>3</th>\n",
       "      <td>1024256001</td>\n",
       "      <td>men_jeans_slim</td>\n",
       "      <td>Slim Jeans</td>\n",
       "      <td>$ 19.99</td>\n",
       "      <td>1024256</td>\n",
       "      <td>001</td>\n",
       "      <td>Light denim blue</td>\n",
       "      <td>Slim fit</td>\n",
       "      <td>Shell: Cotton 99%, Spandex 1%</td>\n",
       "      <td>NaN</td>\n",
       "      <td>Solid-color</td>\n",
       "      <td>Yes</td>\n",
       "    </tr>\n",
       "    <tr>\n",
       "      <th>4</th>\n",
       "      <td>1024256001</td>\n",
       "      <td>men_jeans_slim</td>\n",
       "      <td>Slim Jeans</td>\n",
       "      <td>$ 19.99</td>\n",
       "      <td>1024256</td>\n",
       "      <td>001</td>\n",
       "      <td>Light denim blue</td>\n",
       "      <td>Slim fit</td>\n",
       "      <td>Shell: Cotton 99%, Spandex 1%</td>\n",
       "      <td>NaN</td>\n",
       "      <td>Solid-color</td>\n",
       "      <td>Yes</td>\n",
       "    </tr>\n",
       "  </tbody>\n",
       "</table>\n",
       "</div>"
      ],
      "text/plain": [
       "   product_id product_category product_name product_price style_id color_id  \\\n",
       "0  1024256001   men_jeans_slim   Slim Jeans       $ 19.99  1024256      001   \n",
       "1  1024256001   men_jeans_slim   Slim Jeans       $ 19.99  1024256      001   \n",
       "2  1024256001   men_jeans_slim   Slim Jeans       $ 19.99  1024256      001   \n",
       "3  1024256001   men_jeans_slim   Slim Jeans       $ 19.99  1024256      001   \n",
       "4  1024256001   men_jeans_slim   Slim Jeans       $ 19.99  1024256      001   \n",
       "\n",
       "     product_colors       Fit                               Composition  \\\n",
       "0  Light denim blue  Slim fit  Pocket lining: Polyester 65%, Cotton 35%   \n",
       "1  Light denim blue  Slim fit             Shell: Cotton 99%, Spandex 1%   \n",
       "2  Light denim blue  Slim fit             Shell: Cotton 99%, Spandex 1%   \n",
       "3  Light denim blue  Slim fit             Shell: Cotton 99%, Spandex 1%   \n",
       "4  Light denim blue  Slim fit             Shell: Cotton 99%, Spandex 1%   \n",
       "\n",
       "  Collection  Description Imported  \n",
       "0        NaN        Black      Yes  \n",
       "1        NaN  Solid-color      Yes  \n",
       "2        NaN  Solid-color      Yes  \n",
       "3        NaN  Solid-color      Yes  \n",
       "4        NaN  Solid-color      Yes  "
      ]
     },
     "execution_count": 42,
     "metadata": {},
     "output_type": "execute_result"
    }
   ],
   "source": [
    "data_raw.head()"
   ]
  },
  {
   "cell_type": "code",
   "execution_count": null,
   "id": "3fc74f4d",
   "metadata": {},
   "outputs": [],
   "source": []
  }
 ],
 "metadata": {
  "kernelspec": {
   "display_name": "Python 3 (ipykernel)",
   "language": "python",
   "name": "python3"
  },
  "language_info": {
   "codemirror_mode": {
    "name": "ipython",
    "version": 3
   },
   "file_extension": ".py",
   "mimetype": "text/x-python",
   "name": "python",
   "nbconvert_exporter": "python",
   "pygments_lexer": "ipython3",
   "version": "3.7.9"
  }
 },
 "nbformat": 4,
 "nbformat_minor": 5
}
