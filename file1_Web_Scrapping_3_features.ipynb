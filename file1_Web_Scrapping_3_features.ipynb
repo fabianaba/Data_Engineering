{
 "cells": [
  {
   "cell_type": "code",
   "execution_count": 6,
   "id": "222f3994",
   "metadata": {
    "ExecuteTime": {
     "end_time": "2022-02-28T00:53:59.557593Z",
     "start_time": "2022-02-28T00:53:59.550513Z"
    }
   },
   "outputs": [],
   "source": [
    "from bs4 import BeautifulSoup\n",
    "from datetime import datetime\n",
    "import requests\n",
    "import pandas as pd\n",
    "import numpy as np"
   ]
  },
  {
   "cell_type": "markdown",
   "id": "0b3bcaa2",
   "metadata": {},
   "source": [
    "# Competitor's Web Scraping"
   ]
  },
  {
   "cell_type": "markdown",
   "id": "20620fc9",
   "metadata": {},
   "source": [
    "## H&M - Men - Jeans - main page"
   ]
  },
  {
   "cell_type": "code",
   "execution_count": 8,
   "id": "092083e3",
   "metadata": {
    "ExecuteTime": {
     "end_time": "2022-02-28T00:53:59.589000Z",
     "start_time": "2022-02-28T00:53:59.574167Z"
    }
   },
   "outputs": [],
   "source": [
    "url = 'https://www2.hm.com/en_us/men/products/jeans.html'"
   ]
  },
  {
   "cell_type": "code",
   "execution_count": 9,
   "id": "1a20a640",
   "metadata": {
    "ExecuteTime": {
     "end_time": "2022-02-28T00:53:59.604585Z",
     "start_time": "2022-02-28T00:53:59.591579Z"
    }
   },
   "outputs": [],
   "source": [
    "headers = {'User-Agent': 'Mozilla/5.0 (Windows NT 10.0; Win64; x64; rv:97.0) Gecko/20100101 Firefox/97.0'}\n",
    "# encontro esse user-agent da linha acima em http://developers.whatismybrowser.com/"
   ]
  },
  {
   "cell_type": "code",
   "execution_count": 10,
   "id": "403b4177",
   "metadata": {
    "ExecuteTime": {
     "end_time": "2022-02-28T00:54:00.629194Z",
     "start_time": "2022-02-28T00:53:59.606019Z"
    }
   },
   "outputs": [],
   "source": [
    "page = requests.get(url, headers=headers)"
   ]
  },
  {
   "cell_type": "code",
   "execution_count": 11,
   "id": "933b70ef",
   "metadata": {
    "ExecuteTime": {
     "end_time": "2022-02-28T00:54:00.852091Z",
     "start_time": "2022-02-28T00:54:00.632099Z"
    }
   },
   "outputs": [],
   "source": [
    "soup = BeautifulSoup(page.text, 'html.parser')"
   ]
  },
  {
   "cell_type": "code",
   "execution_count": 12,
   "id": "e46424ba",
   "metadata": {
    "ExecuteTime": {
     "end_time": "2022-02-28T00:54:00.867275Z",
     "start_time": "2022-02-28T00:54:00.854118Z"
    }
   },
   "outputs": [],
   "source": [
    "products = soup.find('ul', class_='products-listing small')  # not find_all because I want only the first "
   ]
  },
  {
   "cell_type": "code",
   "execution_count": 13,
   "id": "9d8c9857",
   "metadata": {
    "ExecuteTime": {
     "end_time": "2022-02-28T00:54:00.885228Z",
     "start_time": "2022-02-28T00:54:00.869273Z"
    }
   },
   "outputs": [],
   "source": [
    "product_list = products.find_all('article', class_='hm-product-item')"
   ]
  },
  {
   "cell_type": "code",
   "execution_count": 14,
   "id": "bf15fafe",
   "metadata": {
    "ExecuteTime": {
     "end_time": "2022-02-28T00:54:00.901790Z",
     "start_time": "2022-02-28T00:54:00.887271Z"
    }
   },
   "outputs": [],
   "source": [
    "# fazer um laco for que percorre a lista aplicando o metodo get sobre o \"data-articlecode\"\n",
    "# escrevendo o for numa linha unica de codigo que vai retornar uma lista\n",
    "\n",
    "# product_id\n",
    "product_id = [p.get('data-articlecode') for p in product_list]\n",
    "\n",
    "# product_category\n",
    "product_category = [p.get('data-category') for p in product_list]"
   ]
  },
  {
   "cell_type": "code",
   "execution_count": 15,
   "id": "690f5ea3",
   "metadata": {
    "ExecuteTime": {
     "end_time": "2022-02-28T00:54:00.918445Z",
     "start_time": "2022-02-28T00:54:00.904915Z"
    }
   },
   "outputs": [],
   "source": [
    "# product_name\n",
    "product_list = products.find_all('a', class_='link')\n",
    "product_name = [p.get_text() for p in product_list]"
   ]
  },
  {
   "cell_type": "code",
   "execution_count": 16,
   "id": "337d421a",
   "metadata": {
    "ExecuteTime": {
     "end_time": "2022-02-28T00:54:00.935227Z",
     "start_time": "2022-02-28T00:54:00.919448Z"
    }
   },
   "outputs": [],
   "source": [
    "# price\n",
    "product_list = products.find_all('span', class_='price regular')\n",
    "product_price = [p.get_text() for p in product_list]"
   ]
  },
  {
   "cell_type": "code",
   "execution_count": 17,
   "id": "a5dcb8c6",
   "metadata": {
    "ExecuteTime": {
     "end_time": "2022-02-28T00:54:00.951898Z",
     "start_time": "2022-02-28T00:54:00.936225Z"
    }
   },
   "outputs": [],
   "source": [
    "data = pd.DataFrame([product_id, product_category, product_name, product_price]).T\n",
    "data.columns = ['product_id', 'product_category', 'product_name', 'product_price']"
   ]
  },
  {
   "cell_type": "code",
   "execution_count": 18,
   "id": "71a58630",
   "metadata": {
    "ExecuteTime": {
     "end_time": "2022-02-28T00:54:00.985708Z",
     "start_time": "2022-02-28T00:54:00.952897Z"
    }
   },
   "outputs": [
    {
     "data": {
      "text/html": [
       "<div>\n",
       "<style scoped>\n",
       "    .dataframe tbody tr th:only-of-type {\n",
       "        vertical-align: middle;\n",
       "    }\n",
       "\n",
       "    .dataframe tbody tr th {\n",
       "        vertical-align: top;\n",
       "    }\n",
       "\n",
       "    .dataframe thead th {\n",
       "        text-align: right;\n",
       "    }\n",
       "</style>\n",
       "<table border=\"1\" class=\"dataframe\">\n",
       "  <thead>\n",
       "    <tr style=\"text-align: right;\">\n",
       "      <th></th>\n",
       "      <th>product_id</th>\n",
       "      <th>product_category</th>\n",
       "      <th>product_name</th>\n",
       "      <th>product_price</th>\n",
       "    </tr>\n",
       "  </thead>\n",
       "  <tbody>\n",
       "    <tr>\n",
       "      <th>0</th>\n",
       "      <td>1024256001</td>\n",
       "      <td>men_jeans_slim</td>\n",
       "      <td>Slim Jeans</td>\n",
       "      <td>$ 19.99</td>\n",
       "    </tr>\n",
       "    <tr>\n",
       "      <th>1</th>\n",
       "      <td>1008549006</td>\n",
       "      <td>men_jeans_regular</td>\n",
       "      <td>Regular Jeans</td>\n",
       "      <td>$ 19.99</td>\n",
       "    </tr>\n",
       "    <tr>\n",
       "      <th>2</th>\n",
       "      <td>1024256002</td>\n",
       "      <td>men_jeans_slim</td>\n",
       "      <td>Slim Jeans</td>\n",
       "      <td>$ 19.99</td>\n",
       "    </tr>\n",
       "    <tr>\n",
       "      <th>3</th>\n",
       "      <td>0690449043</td>\n",
       "      <td>men_jeans_ripped</td>\n",
       "      <td>Skinny Jeans</td>\n",
       "      <td>$ 39.99</td>\n",
       "    </tr>\n",
       "    <tr>\n",
       "      <th>4</th>\n",
       "      <td>0690449051</td>\n",
       "      <td>men_jeans_ripped</td>\n",
       "      <td>Skinny Jeans</td>\n",
       "      <td>$ 39.99</td>\n",
       "    </tr>\n",
       "  </tbody>\n",
       "</table>\n",
       "</div>"
      ],
      "text/plain": [
       "   product_id   product_category   product_name product_price\n",
       "0  1024256001     men_jeans_slim     Slim Jeans       $ 19.99\n",
       "1  1008549006  men_jeans_regular  Regular Jeans       $ 19.99\n",
       "2  1024256002     men_jeans_slim     Slim Jeans       $ 19.99\n",
       "3  0690449043   men_jeans_ripped   Skinny Jeans       $ 39.99\n",
       "4  0690449051   men_jeans_ripped   Skinny Jeans       $ 39.99"
      ]
     },
     "execution_count": 18,
     "metadata": {},
     "output_type": "execute_result"
    }
   ],
   "source": [
    "data.head()"
   ]
  },
  {
   "cell_type": "code",
   "execution_count": 19,
   "id": "12d9f5b9",
   "metadata": {
    "ExecuteTime": {
     "end_time": "2022-02-28T00:54:01.001907Z",
     "start_time": "2022-02-28T00:54:00.987703Z"
    }
   },
   "outputs": [],
   "source": [
    "# Para os itens product_color e product_composition temos que fazer a requisicao em outras paginas\n",
    "# pois a vitrine (pagina principal) nao mostra todas as cores nem a composicao"
   ]
  },
  {
   "cell_type": "markdown",
   "id": "4963e030",
   "metadata": {},
   "source": [
    "## H&M - Men - Jeans - product individual pages"
   ]
  },
  {
   "cell_type": "code",
   "execution_count": 20,
   "id": "ab234076",
   "metadata": {
    "ExecuteTime": {
     "end_time": "2022-02-28T00:54:01.579305Z",
     "start_time": "2022-02-28T00:54:01.002905Z"
    }
   },
   "outputs": [
    {
     "data": {
      "text/html": [
       "<div>\n",
       "<style scoped>\n",
       "    .dataframe tbody tr th:only-of-type {\n",
       "        vertical-align: middle;\n",
       "    }\n",
       "\n",
       "    .dataframe tbody tr th {\n",
       "        vertical-align: top;\n",
       "    }\n",
       "\n",
       "    .dataframe thead th {\n",
       "        text-align: right;\n",
       "    }\n",
       "</style>\n",
       "<table border=\"1\" class=\"dataframe\">\n",
       "  <thead>\n",
       "    <tr style=\"text-align: right;\">\n",
       "      <th></th>\n",
       "      <th>product_id</th>\n",
       "      <th>product_colors</th>\n",
       "      <th>style_id</th>\n",
       "      <th>color_id</th>\n",
       "      <th>Fit</th>\n",
       "      <th>Composition</th>\n",
       "    </tr>\n",
       "  </thead>\n",
       "  <tbody>\n",
       "    <tr>\n",
       "      <th>0</th>\n",
       "      <td>0985159002</td>\n",
       "      <td>Denim blue</td>\n",
       "      <td>0985159</td>\n",
       "      <td>002</td>\n",
       "      <td>Skinny fit</td>\n",
       "      <td>Shell: Cotton 99%, Spandex 1%</td>\n",
       "    </tr>\n",
       "    <tr>\n",
       "      <th>1</th>\n",
       "      <td>0985159002</td>\n",
       "      <td>Denim blue</td>\n",
       "      <td>0985159</td>\n",
       "      <td>002</td>\n",
       "      <td>Skinny fit</td>\n",
       "      <td>Pocket lining: Cotton 100%</td>\n",
       "    </tr>\n",
       "    <tr>\n",
       "      <th>2</th>\n",
       "      <td>0985159003</td>\n",
       "      <td>Dark gray</td>\n",
       "      <td>0985159</td>\n",
       "      <td>003</td>\n",
       "      <td>Skinny fit</td>\n",
       "      <td>Shell: Cotton 99%, Spandex 1%</td>\n",
       "    </tr>\n",
       "    <tr>\n",
       "      <th>3</th>\n",
       "      <td>0985159003</td>\n",
       "      <td>Dark gray</td>\n",
       "      <td>0985159</td>\n",
       "      <td>003</td>\n",
       "      <td>Skinny fit</td>\n",
       "      <td>Pocket lining: Cotton 100%</td>\n",
       "    </tr>\n",
       "    <tr>\n",
       "      <th>4</th>\n",
       "      <td>0985159004</td>\n",
       "      <td>Light denim blue</td>\n",
       "      <td>0985159</td>\n",
       "      <td>004</td>\n",
       "      <td>Skinny fit</td>\n",
       "      <td>Shell: Cotton 99%, Spandex 1%</td>\n",
       "    </tr>\n",
       "  </tbody>\n",
       "</table>\n",
       "</div>"
      ],
      "text/plain": [
       "   product_id    product_colors style_id color_id         Fit  \\\n",
       "0  0985159002        Denim blue  0985159      002  Skinny fit   \n",
       "1  0985159002        Denim blue  0985159      002  Skinny fit   \n",
       "2  0985159003         Dark gray  0985159      003  Skinny fit   \n",
       "3  0985159003         Dark gray  0985159      003  Skinny fit   \n",
       "4  0985159004  Light denim blue  0985159      004  Skinny fit   \n",
       "\n",
       "                     Composition  \n",
       "0  Shell: Cotton 99%, Spandex 1%  \n",
       "1     Pocket lining: Cotton 100%  \n",
       "2  Shell: Cotton 99%, Spandex 1%  \n",
       "3     Pocket lining: Cotton 100%  \n",
       "4  Shell: Cotton 99%, Spandex 1%  "
      ]
     },
     "execution_count": 20,
     "metadata": {},
     "output_type": "execute_result"
    }
   ],
   "source": [
    "# API Requests\n",
    "\n",
    "# example of a product page\n",
    "url_3 = 'https://www2.hm.com/en_us/productpage.0985159001.html'\n",
    "\n",
    "page = requests.get(url_3, headers=headers)\n",
    "\n",
    "# Beautiful Soup object\n",
    "soup = BeautifulSoup(page.text, 'html.parser')\n",
    "\n",
    "# ================ Product Color ==================\n",
    "\n",
    "gen_color_list = soup.find_all('a', class_='filter-option miniature')\n",
    "\n",
    "# product colors\n",
    "product_colors = [c.get('data-color') for c in gen_color_list]\n",
    "\n",
    "# product id\n",
    "product_id = [c.get('data-articlecode') for c in gen_color_list]\n",
    "\n",
    "# dataframe color\n",
    "df_color = pd.DataFrame(list(zip(product_id, product_colors)))\n",
    "df_color.columns = ['product_id', 'product_colors']\n",
    "df_color.head()\n",
    "\n",
    "# generate style id + color id\n",
    "df_color['style_id'] = df_color['product_id'].apply(lambda x: x[:-3])\n",
    "df_color['color_id'] = df_color['product_id'].apply(lambda x: x[-3:])\n",
    "df_color.head()\n",
    "\n",
    "# ================ Product Composition ==================\n",
    "\n",
    "gen_composition_list = soup.find_all('div', class_='details-attributes-list-item')\n",
    "gen_composition = [list(filter(None, d.get_text().split('\\n'))) for d in gen_composition_list]\n",
    "gen_composition\n",
    "\n",
    "del gen_composition[5]\n",
    "\n",
    "df_composition = pd.DataFrame(gen_composition).T\n",
    "\n",
    "# rename column names\n",
    "df_composition.columns = df_composition.iloc[0]\n",
    "\n",
    "# delete first row\n",
    "df_composition = df_composition.iloc[1:]\n",
    "\n",
    "df_composition = df_composition.loc[:, ['Fit', 'Composition', 'Art. No.']]\n",
    "\n",
    "# fill NA with info from the row above\n",
    "df_composition = df_composition.fillna(method='ffill')\n",
    "\n",
    "# extract style id and article id from product_id\n",
    "# generate style id + composition id\n",
    "df_composition['style_id'] = df_composition['Art. No.'].apply(lambda x: x[:-3])\n",
    "df_composition['article_id'] = df_composition['Art. No.'].apply(lambda x: x[-3:])\n",
    "df_composition.head()\n",
    "\n",
    "# Merge color and composition dataframes\n",
    "data_sku = pd.merge(df_color, df_composition[['style_id', 'Fit', 'Composition']], how='left', on='style_id')\n",
    "data_sku.head()\n"
   ]
  },
  {
   "cell_type": "markdown",
   "id": "e8ffc10a",
   "metadata": {},
   "source": [
    "### H&M - Men - Jeans - multiple pages¶"
   ]
  },
  {
   "cell_type": "code",
   "execution_count": 21,
   "id": "c9e0f755",
   "metadata": {
    "ExecuteTime": {
     "end_time": "2022-02-28T00:54:01.601819Z",
     "start_time": "2022-02-28T00:54:01.580302Z"
    }
   },
   "outputs": [],
   "source": [
    "# product_url = ['https://www2.hm.com/en_us/productpage.' + str(p) + '.html' for p in product_id]"
   ]
  },
  {
   "cell_type": "code",
   "execution_count": 22,
   "id": "16343a76",
   "metadata": {
    "ExecuteTime": {
     "end_time": "2022-02-28T00:54:23.952342Z",
     "start_time": "2022-02-28T00:54:01.603814Z"
    },
    "code_folding": []
   },
   "outputs": [],
   "source": [
    "# empty dataframe\n",
    "df_details = pd.DataFrame()\n",
    "\n",
    "for i in range(len(data)):\n",
    "   \n",
    "    # API Requests\n",
    "    url = 'https://www2.hm.com/en_us/productpage.' + data.loc[i, 'product_id'] + '.html'\n",
    "    page = requests.get(url, headers=headers)\n",
    "\n",
    "    # Beautiful Soup object\n",
    "    soup = BeautifulSoup(page.text, 'html.parser')\n",
    "\n",
    "    # ================ Product Color ==================\n",
    "\n",
    "    gen_color_list = soup.find_all('a', class_='filter-option miniature')\n",
    "\n",
    "    # product colors\n",
    "    product_colors = [c.get('data-color') for c in gen_color_list]\n",
    "\n",
    "    # product id\n",
    "    product_id = [c.get('data-articlecode') for c in gen_color_list]\n",
    "\n",
    "    # dataframe color\n",
    "    df_color = pd.DataFrame(list(zip(product_id, product_colors)))\n",
    "    df_color.columns = ['product_id', 'product_colors']\n",
    "\n",
    "    # generate style id + color id\n",
    "    df_color['style_id'] = df_color['product_id'].apply(lambda x: x[:-3])\n",
    "    df_color['color_id'] = df_color['product_id'].apply(lambda x: x[-3:])\n",
    "    \n",
    "\n",
    "    # ================ Product Composition ==================\n",
    "\n",
    "    gen_composition_list = soup.find_all('div', class_='details-attributes-list-item')\n",
    "    gen_composition = [list(filter(None, d.get_text().split('\\n'))) for d in gen_composition_list]\n",
    "\n",
    "    del gen_composition[5]\n",
    "\n",
    "    df_composition = pd.DataFrame(gen_composition).T\n",
    "\n",
    "    # rename column names\n",
    "    df_composition.columns = df_composition.iloc[0]\n",
    "\n",
    "    # delete first row\n",
    "    df_composition = df_composition.iloc[1:]\n",
    "\n",
    "    df_composition = df_composition.loc[:, ['Fit', 'Composition', 'Art. No.']]\n",
    "\n",
    "    # fill NA with info from the row above\n",
    "    df_composition = df_composition.fillna(method='ffill')\n",
    "\n",
    "    # extract style id and article id from product_id\n",
    "    # generate style id + composition id\n",
    "    df_composition['style_id'] = df_composition['Art. No.'].apply(lambda x: x[:-3])\n",
    "    df_composition['article_id'] = df_composition['Art. No.'].apply(lambda x: x[-3:])\n",
    "    df_composition.head()\n",
    "\n",
    "    # Merge color and composition dataframes\n",
    "    data_sku = pd.merge(df_color, df_composition[['style_id', 'Fit', 'Composition']], how='left', on='style_id')\n",
    "\n",
    "    # all product details\n",
    "    df_details = pd.concat([df_details, data_sku], axis=0)\n",
    "    "
   ]
  },
  {
   "cell_type": "code",
   "execution_count": 23,
   "id": "dcf488c7",
   "metadata": {
    "ExecuteTime": {
     "end_time": "2022-02-28T00:54:23.968038Z",
     "start_time": "2022-02-28T00:54:23.954016Z"
    }
   },
   "outputs": [
    {
     "data": {
      "text/html": [
       "<div>\n",
       "<style scoped>\n",
       "    .dataframe tbody tr th:only-of-type {\n",
       "        vertical-align: middle;\n",
       "    }\n",
       "\n",
       "    .dataframe tbody tr th {\n",
       "        vertical-align: top;\n",
       "    }\n",
       "\n",
       "    .dataframe thead th {\n",
       "        text-align: right;\n",
       "    }\n",
       "</style>\n",
       "<table border=\"1\" class=\"dataframe\">\n",
       "  <thead>\n",
       "    <tr style=\"text-align: right;\">\n",
       "      <th></th>\n",
       "      <th>product_id</th>\n",
       "      <th>product_colors</th>\n",
       "      <th>style_id</th>\n",
       "      <th>color_id</th>\n",
       "      <th>Fit</th>\n",
       "      <th>Composition</th>\n",
       "    </tr>\n",
       "  </thead>\n",
       "  <tbody>\n",
       "    <tr>\n",
       "      <th>0</th>\n",
       "      <td>1024256002</td>\n",
       "      <td>Light denim blue</td>\n",
       "      <td>1024256</td>\n",
       "      <td>002</td>\n",
       "      <td>Slim fit</td>\n",
       "      <td>Pocket lining: Polyester 65%, Cotton 35%</td>\n",
       "    </tr>\n",
       "    <tr>\n",
       "      <th>1</th>\n",
       "      <td>1024256002</td>\n",
       "      <td>Light denim blue</td>\n",
       "      <td>1024256</td>\n",
       "      <td>002</td>\n",
       "      <td>Slim fit</td>\n",
       "      <td>Shell: Cotton 99%, Spandex 1%</td>\n",
       "    </tr>\n",
       "    <tr>\n",
       "      <th>2</th>\n",
       "      <td>1024256002</td>\n",
       "      <td>Light denim blue</td>\n",
       "      <td>1024256</td>\n",
       "      <td>002</td>\n",
       "      <td>Slim fit</td>\n",
       "      <td>Shell: Cotton 99%, Spandex 1%</td>\n",
       "    </tr>\n",
       "    <tr>\n",
       "      <th>3</th>\n",
       "      <td>1024256002</td>\n",
       "      <td>Light denim blue</td>\n",
       "      <td>1024256</td>\n",
       "      <td>002</td>\n",
       "      <td>Slim fit</td>\n",
       "      <td>Shell: Cotton 99%, Spandex 1%</td>\n",
       "    </tr>\n",
       "    <tr>\n",
       "      <th>4</th>\n",
       "      <td>1024256002</td>\n",
       "      <td>Light denim blue</td>\n",
       "      <td>1024256</td>\n",
       "      <td>002</td>\n",
       "      <td>Slim fit</td>\n",
       "      <td>Shell: Cotton 99%, Spandex 1%</td>\n",
       "    </tr>\n",
       "  </tbody>\n",
       "</table>\n",
       "</div>"
      ],
      "text/plain": [
       "   product_id    product_colors style_id color_id       Fit  \\\n",
       "0  1024256002  Light denim blue  1024256      002  Slim fit   \n",
       "1  1024256002  Light denim blue  1024256      002  Slim fit   \n",
       "2  1024256002  Light denim blue  1024256      002  Slim fit   \n",
       "3  1024256002  Light denim blue  1024256      002  Slim fit   \n",
       "4  1024256002  Light denim blue  1024256      002  Slim fit   \n",
       "\n",
       "                                Composition  \n",
       "0  Pocket lining: Polyester 65%, Cotton 35%  \n",
       "1             Shell: Cotton 99%, Spandex 1%  \n",
       "2             Shell: Cotton 99%, Spandex 1%  \n",
       "3             Shell: Cotton 99%, Spandex 1%  \n",
       "4             Shell: Cotton 99%, Spandex 1%  "
      ]
     },
     "execution_count": 23,
     "metadata": {},
     "output_type": "execute_result"
    }
   ],
   "source": [
    "df_details.head()"
   ]
  }
 ],
 "metadata": {
  "kernelspec": {
   "display_name": "Python 3",
   "language": "python",
   "name": "python3"
  },
  "language_info": {
   "codemirror_mode": {
    "name": "ipython",
    "version": 3
   },
   "file_extension": ".py",
   "mimetype": "text/x-python",
   "name": "python",
   "nbconvert_exporter": "python",
   "pygments_lexer": "ipython3",
   "version": "3.8.8"
  }
 },
 "nbformat": 4,
 "nbformat_minor": 5
}
