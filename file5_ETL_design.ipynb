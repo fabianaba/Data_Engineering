{
 "cells": [
  {
   "cell_type": "markdown",
   "id": "85ecf3b8",
   "metadata": {},
   "source": [
    "### Imports"
   ]
  },
  {
   "cell_type": "code",
   "execution_count": 1,
   "id": "e001d3b9",
   "metadata": {
    "ExecuteTime": {
     "end_time": "2022-03-18T03:27:27.316038Z",
     "start_time": "2022-03-18T03:27:26.887503Z"
    }
   },
   "outputs": [],
   "source": [
    "from bs4 import BeautifulSoup\n",
    "from datetime import datetime\n",
    "import requests\n",
    "import pandas as pd\n",
    "import numpy as np"
   ]
  },
  {
   "cell_type": "markdown",
   "id": "4c6282a1",
   "metadata": {},
   "source": [
    "### Data collection"
   ]
  },
  {
   "cell_type": "code",
   "execution_count": 2,
   "id": "da33060e",
   "metadata": {
    "ExecuteTime": {
     "end_time": "2022-03-18T03:27:28.133942Z",
     "start_time": "2022-03-18T03:27:27.318033Z"
    }
   },
   "outputs": [],
   "source": [
    "# parameters\n",
    "headers = {'User-Agent': 'Mozilla/5.0 (Windows NT 10.0; Win64; x64; rv:97.0) Gecko/20100101 Firefox/97.0'}\n",
    "\n",
    "# URL\n",
    "url = 'https://www2.hm.com/en_us/men/products/jeans.html'\n",
    "\n",
    "# request to URL\n",
    "page = requests.get(url, headers=headers)\n",
    "\n",
    "# Beautiful Soup object\n",
    "soup = BeautifulSoup(page.text, 'html.parser')\n",
    "\n",
    "# =============== Products Data =============================\n",
    "\n",
    "products = soup.find('ul', class_='products-listing small')\n",
    "product_list = products.find_all('article', class_='hm-product-item')\n",
    "\n",
    "# product_id\n",
    "product_id = [p.get('data-articlecode') for p in product_list]\n",
    "\n",
    "# product_category\n",
    "product_category = [p.get('data-category') for p in product_list]\n",
    "\n",
    "# product_name\n",
    "product_list = products.find_all('a', class_='link')\n",
    "product_name = [p.get_text() for p in product_list]\n",
    "\n",
    "# price\n",
    "product_list = products.find_all('span', class_='price regular')\n",
    "product_price = [p.get_text() for p in product_list]\n",
    "\n",
    "data = pd.DataFrame([product_id, product_category, product_name, product_price]).T\n",
    "data.columns = ['product_id', 'product_category', 'product_name', 'product_price']"
   ]
  },
  {
   "cell_type": "code",
   "execution_count": 3,
   "id": "bf7c8daa",
   "metadata": {
    "ExecuteTime": {
     "end_time": "2022-03-18T03:27:28.149456Z",
     "start_time": "2022-03-18T03:27:28.134609Z"
    }
   },
   "outputs": [
    {
     "data": {
      "text/plain": [
       "(36, 4)"
      ]
     },
     "execution_count": 3,
     "metadata": {},
     "output_type": "execute_result"
    }
   ],
   "source": [
    "data.shape"
   ]
  },
  {
   "cell_type": "markdown",
   "id": "1973d830",
   "metadata": {},
   "source": [
    "### Data collection by product"
   ]
  },
  {
   "cell_type": "code",
   "execution_count": 11,
   "id": "ff1a85be",
   "metadata": {
    "ExecuteTime": {
     "end_time": "2022-03-18T03:33:17.133620Z",
     "start_time": "2022-03-18T03:33:15.749927Z"
    }
   },
   "outputs": [
    {
     "name": "stdout",
     "output_type": "stream",
     "text": [
      "Product URL: https://www2.hm.com/en_us/productpage.0690449043.html\n"
     ]
    },
    {
     "ename": "NameError",
     "evalue": "name 'fargaefaew' is not defined",
     "output_type": "error",
     "traceback": [
      "\u001b[1;31m---------------------------------------------------------------------------\u001b[0m",
      "\u001b[1;31mNameError\u001b[0m                                 Traceback (most recent call last)",
      "\u001b[1;32m~\\AppData\\Local\\Temp/ipykernel_14852/518542949.py\u001b[0m in \u001b[0;36m<module>\u001b[1;34m\u001b[0m\n\u001b[0;32m     95\u001b[0m         \u001b[0mdf_composition_s\u001b[0m \u001b[1;33m=\u001b[0m \u001b[0mpd\u001b[0m\u001b[1;33m.\u001b[0m\u001b[0mconcat\u001b[0m\u001b[1;33m(\u001b[0m\u001b[1;33m[\u001b[0m\u001b[0mdf_composition_s\u001b[0m\u001b[1;33m,\u001b[0m \u001b[0mdf_composition\u001b[0m\u001b[1;33m]\u001b[0m\u001b[1;33m,\u001b[0m \u001b[0maxis\u001b[0m\u001b[1;33m=\u001b[0m\u001b[1;36m0\u001b[0m\u001b[1;33m)\u001b[0m\u001b[1;33m\u001b[0m\u001b[1;33m\u001b[0m\u001b[0m\n\u001b[0;32m     96\u001b[0m \u001b[1;33m\u001b[0m\u001b[0m\n\u001b[1;32m---> 97\u001b[1;33m         \u001b[0mfargaefaew\u001b[0m\u001b[1;33m\u001b[0m\u001b[1;33m\u001b[0m\u001b[0m\n\u001b[0m\u001b[0;32m     98\u001b[0m \u001b[1;33m\u001b[0m\u001b[0m\n\u001b[0;32m     99\u001b[0m \u001b[1;31m# #     # extract style id and article id from product_id\u001b[0m\u001b[1;33m\u001b[0m\u001b[1;33m\u001b[0m\u001b[1;33m\u001b[0m\u001b[0m\n",
      "\u001b[1;31mNameError\u001b[0m: name 'fargaefaew' is not defined"
     ]
    }
   ],
   "source": [
    "# empty dataframe\n",
    "df_composition_s = pd.DataFrame()\n",
    "\n",
    "# empty list to collect names of unique columns for all products composition\n",
    "aux = []\n",
    "\n",
    "# pattern dataframe with the columns I want to collect from each product if exist\n",
    "df_pattern = pd.DataFrame(columns=['Art. No.', 'Composition', 'Fit'])\n",
    "\n",
    "for i in range(len(data)):\n",
    "   \n",
    "    # API Requests\n",
    "    url = 'https://www2.hm.com/en_us/productpage.' + data.loc[i, 'product_id'] + '.html'\n",
    "   \n",
    "    print('Product URL: {}'.format(url))\n",
    "    \n",
    "    page = requests.get(url, headers=headers)\n",
    "\n",
    "    # Beautiful Soup object\n",
    "    soup = BeautifulSoup(page.text, 'html.parser')\n",
    "\n",
    "    # ================ Product Color ==================\n",
    "\n",
    "    gen_color_list = soup.find_all('a', class_='filter-option miniature active') + soup.find_all('a', class_='filter-option miniature')\n",
    "\n",
    "    # product colors\n",
    "    product_colors = [c.get('data-color') for c in gen_color_list]\n",
    "\n",
    "    # product id\n",
    "    product_id = [c.get('data-articlecode') for c in gen_color_list]\n",
    "\n",
    "    # dataframe color\n",
    "    df_color = pd.DataFrame(list(zip(product_id, product_colors)))\n",
    "    df_color.columns = ['product_id', 'product_colors']\n",
    "    \n",
    "    for j in range(len(df_color)):\n",
    "        \n",
    "        # API Requests\n",
    "        url = 'https://www2.hm.com/en_us/productpage.' + df_color.loc[j, 'product_id'] + '.html'\n",
    "\n",
    "        page = requests.get(url, headers=headers)\n",
    "\n",
    "        # Beautiful Soup object\n",
    "        soup = BeautifulSoup(page.text, 'html.parser')\n",
    "        \n",
    "        # ================ Product Name ==================\n",
    "        product_name = soup.find('h1', class_='primary product-item-headline')\n",
    "        product_name = product_name.get_text()\n",
    "        \n",
    "        # ================ Product Price ==================\n",
    "        product_price = soup.find_all('div', class_='primary-row product-item-price')\n",
    "        product_price = product_price[0].get_text()\n",
    "    \n",
    "        # ================ Product Composition ==================\n",
    "\n",
    "        gen_composition_list = soup.find_all('div', class_='details-attributes-list-item')\n",
    "        gen_composition = [list(filter(None, d.get_text().split('\\n'))) for d in gen_composition_list]\n",
    "\n",
    "        df_composition = pd.DataFrame(gen_composition).T\n",
    "\n",
    "        # rename column names\n",
    "        df_composition.columns = df_composition.iloc[0]\n",
    "\n",
    "        # delete first row\n",
    "        df_composition = df_composition.iloc[1:]\n",
    "        \n",
    "        # drop columns\n",
    "        df_composition = df_composition.drop(columns=['messages.garmentLength', 'messages.waistRise', \n",
    "                                                      'messages.clothingStyle', 'Care instructions',\n",
    "                                                      'Material', 'Collection', 'Description', 'Imported', \n",
    "                                                      'Concept', 'Nice to know'], axis=1, errors='ignore')\n",
    "\n",
    "        # reset index\n",
    "        df_composition = df_composition.reset_index(drop=True)\n",
    "            \n",
    "        # remove pocket lining, shell, and lining\n",
    "        df_composition['Composition'] = df_composition['Composition'].replace('Pocket lining: ', '', regex=True)\n",
    "        df_composition['Composition'] = df_composition['Composition'].replace('Shell: ', '', regex=True)\n",
    "        df_composition['Composition'] = df_composition['Composition'].replace('Lining: ', '', regex=True)\n",
    "\n",
    "        # guarantee the same selected columns for all products\n",
    "        aux = aux + df_composition.columns.tolist()\n",
    "        df_composition = pd.concat([df_pattern, df_composition], axis=0)\n",
    "\n",
    "        # fill NA with info from the cell above\n",
    "        df_composition = df_composition.fillna(method='ffill')\n",
    "\n",
    "        # rename columns\n",
    "        df_composition.columns = ['product_id', 'composition', 'fit']\n",
    "\n",
    "        # merge composition and color dataframes\n",
    "        df_composition = pd.merge(df_composition, df_color, how='left', on='product_id')\n",
    "\n",
    "        # all products details\n",
    "        df_composition_s = pd.concat([df_composition_s, df_composition], axis=0)\n",
    "        \n",
    "        fargaefaew\n",
    "    \n",
    "# #     # extract style id and article id from product_id\n",
    "# #     # generate style id + composition id\n",
    "# #     df_composition['style_id'] = df_composition['product_id'].apply(lambda x: x[:-3])\n",
    "# #     df_composition['article_id'] = df_composition['product_id'].apply(lambda x: x[-3:])\n",
    "\n",
    "# #     # all product details\n",
    "# #     df_details = pd.concat([df_details, data_sku], axis=0)\n",
    "\n",
    "\n",
    "# #     # generate style id + color id\n",
    "# #     df_color['style_id'] = df_color['product_id'].apply(lambda x: x[:-3])\n",
    "# #     df_color['color_id'] = df_color['product_id'].apply(lambda x: x[-3:]) "
   ]
  },
  {
   "cell_type": "code",
   "execution_count": 12,
   "id": "2ec1189d",
   "metadata": {
    "ExecuteTime": {
     "end_time": "2022-03-18T03:33:17.483116Z",
     "start_time": "2022-03-18T03:33:17.473671Z"
    }
   },
   "outputs": [
    {
     "data": {
      "text/html": [
       "<div>\n",
       "<style scoped>\n",
       "    .dataframe tbody tr th:only-of-type {\n",
       "        vertical-align: middle;\n",
       "    }\n",
       "\n",
       "    .dataframe tbody tr th {\n",
       "        vertical-align: top;\n",
       "    }\n",
       "\n",
       "    .dataframe thead th {\n",
       "        text-align: right;\n",
       "    }\n",
       "</style>\n",
       "<table border=\"1\" class=\"dataframe\">\n",
       "  <thead>\n",
       "    <tr style=\"text-align: right;\">\n",
       "      <th></th>\n",
       "      <th>product_id</th>\n",
       "      <th>composition</th>\n",
       "      <th>fit</th>\n",
       "      <th>product_colors</th>\n",
       "    </tr>\n",
       "  </thead>\n",
       "  <tbody>\n",
       "    <tr>\n",
       "      <th>0</th>\n",
       "      <td>0690449043</td>\n",
       "      <td>Cotton 98%, Spandex 2%</td>\n",
       "      <td>Skinny fit</td>\n",
       "      <td>Light denim blue/trashed</td>\n",
       "    </tr>\n",
       "    <tr>\n",
       "      <th>1</th>\n",
       "      <td>0690449043</td>\n",
       "      <td>Polyester 65%, Cotton 35%</td>\n",
       "      <td>Skinny fit</td>\n",
       "      <td>Light denim blue/trashed</td>\n",
       "    </tr>\n",
       "    <tr>\n",
       "      <th>2</th>\n",
       "      <td>0690449043</td>\n",
       "      <td>Polyester 65%, Cotton 35%</td>\n",
       "      <td>Skinny fit</td>\n",
       "      <td>Light denim blue/trashed</td>\n",
       "    </tr>\n",
       "    <tr>\n",
       "      <th>3</th>\n",
       "      <td>0690449043</td>\n",
       "      <td>Polyester 65%, Cotton 35%</td>\n",
       "      <td>Skinny fit</td>\n",
       "      <td>Light denim blue/trashed</td>\n",
       "    </tr>\n",
       "    <tr>\n",
       "      <th>4</th>\n",
       "      <td>0690449043</td>\n",
       "      <td>Polyester 65%, Cotton 35%</td>\n",
       "      <td>Skinny fit</td>\n",
       "      <td>Light denim blue/trashed</td>\n",
       "    </tr>\n",
       "    <tr>\n",
       "      <th>5</th>\n",
       "      <td>0690449043</td>\n",
       "      <td>Polyester 65%, Cotton 35%</td>\n",
       "      <td>Skinny fit</td>\n",
       "      <td>Light denim blue/trashed</td>\n",
       "    </tr>\n",
       "  </tbody>\n",
       "</table>\n",
       "</div>"
      ],
      "text/plain": [
       "   product_id                composition         fit            product_colors\n",
       "0  0690449043     Cotton 98%, Spandex 2%  Skinny fit  Light denim blue/trashed\n",
       "1  0690449043  Polyester 65%, Cotton 35%  Skinny fit  Light denim blue/trashed\n",
       "2  0690449043  Polyester 65%, Cotton 35%  Skinny fit  Light denim blue/trashed\n",
       "3  0690449043  Polyester 65%, Cotton 35%  Skinny fit  Light denim blue/trashed\n",
       "4  0690449043  Polyester 65%, Cotton 35%  Skinny fit  Light denim blue/trashed\n",
       "5  0690449043  Polyester 65%, Cotton 35%  Skinny fit  Light denim blue/trashed"
      ]
     },
     "execution_count": 12,
     "metadata": {},
     "output_type": "execute_result"
    }
   ],
   "source": [
    "df_composition"
   ]
  },
  {
   "cell_type": "code",
   "execution_count": 13,
   "id": "e4b00ce7",
   "metadata": {
    "ExecuteTime": {
     "end_time": "2022-03-18T03:33:20.581147Z",
     "start_time": "2022-03-18T03:33:20.567714Z"
    }
   },
   "outputs": [
    {
     "data": {
      "text/html": [
       "<div>\n",
       "<style scoped>\n",
       "    .dataframe tbody tr th:only-of-type {\n",
       "        vertical-align: middle;\n",
       "    }\n",
       "\n",
       "    .dataframe tbody tr th {\n",
       "        vertical-align: top;\n",
       "    }\n",
       "\n",
       "    .dataframe thead th {\n",
       "        text-align: right;\n",
       "    }\n",
       "</style>\n",
       "<table border=\"1\" class=\"dataframe\">\n",
       "  <thead>\n",
       "    <tr style=\"text-align: right;\">\n",
       "      <th></th>\n",
       "      <th>product_id</th>\n",
       "      <th>composition</th>\n",
       "      <th>fit</th>\n",
       "      <th>product_colors</th>\n",
       "    </tr>\n",
       "  </thead>\n",
       "  <tbody>\n",
       "    <tr>\n",
       "      <th>0</th>\n",
       "      <td>0690449043</td>\n",
       "      <td>Cotton 98%, Spandex 2%</td>\n",
       "      <td>Skinny fit</td>\n",
       "      <td>Light denim blue/trashed</td>\n",
       "    </tr>\n",
       "    <tr>\n",
       "      <th>1</th>\n",
       "      <td>0690449043</td>\n",
       "      <td>Polyester 65%, Cotton 35%</td>\n",
       "      <td>Skinny fit</td>\n",
       "      <td>Light denim blue/trashed</td>\n",
       "    </tr>\n",
       "    <tr>\n",
       "      <th>2</th>\n",
       "      <td>0690449043</td>\n",
       "      <td>Polyester 65%, Cotton 35%</td>\n",
       "      <td>Skinny fit</td>\n",
       "      <td>Light denim blue/trashed</td>\n",
       "    </tr>\n",
       "    <tr>\n",
       "      <th>3</th>\n",
       "      <td>0690449043</td>\n",
       "      <td>Polyester 65%, Cotton 35%</td>\n",
       "      <td>Skinny fit</td>\n",
       "      <td>Light denim blue/trashed</td>\n",
       "    </tr>\n",
       "    <tr>\n",
       "      <th>4</th>\n",
       "      <td>0690449043</td>\n",
       "      <td>Polyester 65%, Cotton 35%</td>\n",
       "      <td>Skinny fit</td>\n",
       "      <td>Light denim blue/trashed</td>\n",
       "    </tr>\n",
       "    <tr>\n",
       "      <th>5</th>\n",
       "      <td>0690449043</td>\n",
       "      <td>Polyester 65%, Cotton 35%</td>\n",
       "      <td>Skinny fit</td>\n",
       "      <td>Light denim blue/trashed</td>\n",
       "    </tr>\n",
       "  </tbody>\n",
       "</table>\n",
       "</div>"
      ],
      "text/plain": [
       "   product_id                composition         fit            product_colors\n",
       "0  0690449043     Cotton 98%, Spandex 2%  Skinny fit  Light denim blue/trashed\n",
       "1  0690449043  Polyester 65%, Cotton 35%  Skinny fit  Light denim blue/trashed\n",
       "2  0690449043  Polyester 65%, Cotton 35%  Skinny fit  Light denim blue/trashed\n",
       "3  0690449043  Polyester 65%, Cotton 35%  Skinny fit  Light denim blue/trashed\n",
       "4  0690449043  Polyester 65%, Cotton 35%  Skinny fit  Light denim blue/trashed\n",
       "5  0690449043  Polyester 65%, Cotton 35%  Skinny fit  Light denim blue/trashed"
      ]
     },
     "execution_count": 13,
     "metadata": {},
     "output_type": "execute_result"
    }
   ],
   "source": [
    "df_composition_s"
   ]
  },
  {
   "cell_type": "markdown",
   "id": "86f1eadc",
   "metadata": {},
   "source": [
    "### Data cleaning"
   ]
  },
  {
   "cell_type": "code",
   "execution_count": null,
   "id": "25f15698",
   "metadata": {},
   "outputs": [],
   "source": [
    "# column names\n",
    "data = data.rename(columns = {'Fit': 'fit', 'Composition': 'composition','Description':'description'})\n",
    "\n",
    "# product_name\n",
    "data['product_name'] = data['product_name'].apply(lambda x: x.replace(' ', '_').lower())\n",
    "\n",
    "# product_price\n",
    "data['product_price'] = data['product_price'].apply(lambda x: x.replace('$', '')).astype(float)\n",
    "# OR data['product_price'].re.findall(r'\\d+\\.?\\d+)\n",
    "\n",
    "# product_color\n",
    "data['product_colors'] = data['product_colors'].apply(lambda x: x.replace(' ', '_').replace('/', '_').lower())\n",
    "\n",
    "# fit\n",
    "data['fit'] = data['fit'].apply(lambda x: x.replace(' ', '_').lower() if pd.notnull(x) else x)\n",
    "\n",
    "# scrapy_datetime\n",
    "data['scrapy_datetime'] = data['scrapy_datetime'].apply(lambda x: re.search('(\\d{4}-\\d{2}-\\d{2}\\s\\d{2}\\:\\d{2}\\:\\d{2})', x).group(0))\n",
    "data['scrapy_datetime'] = pd.to_datetime(data['scrapy_datetime'], format='%Y-%m-%d %H:%M:%S')\n",
    "\n",
    "# column 'composition' has several information \n",
    "\n",
    "# for the first cycle of CRISP, let's remove \"Pocket lining\", \"Lining\", and \"Shell\"\n",
    "data = data[~data['composition'].str.contains('Pocket lining:', na=False)]\n",
    "data = data[~data['composition'].str.contains('Pocket:', na=False)]\n",
    "data = data[~data['composition'].str.contains('Lining:', na=False)]\n",
    "data = data[~data['composition'].str.contains('Shell:', na=False)]\n",
    "\n",
    "# drop duplicates\n",
    "data = data.drop_duplicates()\n",
    "# data = data.drop_duplicates(subset=['product_id', 'product_category', 'product_name', 'product_price',\n",
    "#        'style_id', 'color_id', 'product_colors', 'fit'], keep='last')\n",
    "\n",
    "# reset index\n",
    "data = data.reset_index(drop=True)\n",
    "\n",
    "data.index = np.arange(0, len(data))\n",
    "\n",
    "# break the actual column 'composition' by comma into a new dataframe, df1\n",
    "df1 = data['composition'].str.split(',', expand=True)\n",
    "\n",
    "# create a new empty dataframe with the columns from 'composition': cotton | polyester | spandex\n",
    "# same len as data\n",
    "df_ref = pd.DataFrame(index=np.arange(len(data)), columns=['cotton', 'polyester', 'spandex'])\n",
    "\n",
    "# fill up and attach df_ref to data column by column:\n",
    "\n",
    "# column df1[0]\n",
    "df1[0].unique() # check the unique values; in this case it's all cotton\n",
    "\n",
    "# column df1[1]\n",
    "df1[1].unique()  # it shows we have 'polyester' and 'spandex'\n",
    "\n",
    "# column df1[2]\n",
    "df1[2].unique()  # it shows we have only 'spandex'\n",
    "\n",
    "# cotton from column df1[0]\n",
    "df_cotton = df1[0]\n",
    "df_cotton.name = 'cotton'\n",
    "df_ref = pd.concat([df_ref, df_cotton], axis=1)\n",
    "df_ref = df_ref.iloc[:, ~df_ref.columns.duplicated(keep='last')]\n",
    "df_ref['cotton'] = df_ref['cotton'].fillna('Cotton 0%')\n",
    "\n",
    "# polyester from column df1[1]\n",
    "df_polyester = df1.loc[df1[1].str.contains('Polyester', na=True), 1]\n",
    "df_polyester.name = 'polyester'\n",
    "df_ref = pd.concat([df_ref, df_polyester], axis=1) # overwrites the rows which indexes are in df_polyester; keeps NA in others\n",
    "df_ref = df_ref.iloc[:, ~df_ref.columns.duplicated(keep='last')]\n",
    "df_ref['polyester'] = df_ref['polyester'].fillna('Polyester 0%')\n",
    "\n",
    "# combine spandex from columns df1[1] and df1[2]\n",
    "df_spandex = df1.loc[df1[1].str.contains('Spandex', na=True), 1]\n",
    "df_spandex.name = 'spandex'\n",
    "df_spandex = df_spandex.combine_first(df1[2])\n",
    "df_ref = pd.concat([df_ref, df_spandex], axis=1) # overwrites the rows which indexes are in df_spandex; keeps NA in others\n",
    "df_ref = df_ref.iloc[:, ~df_ref.columns.duplicated(keep='last')]\n",
    "df_ref['spandex'] = df_ref['spandex'].fillna('Spandex 0%')\n",
    "\n",
    "df_ref = df_ref.reset_index(drop=True)\n",
    "\n",
    "# final join\n",
    "data = pd.concat([data, df_ref], axis=1)\n",
    "\n",
    "#format composition data\n",
    "data['cotton'] = data['cotton'].apply(lambda x: int(re.search('\\d+', x).group(0))/100 if pd.notnull(x) else x)\n",
    "data['polyester'] = data['polyester'].apply(lambda x: int(re.search('\\d+', x).group(0))/100 if pd.notnull(x) else x)\n",
    "data['spandex'] = data['spandex'].apply(lambda x: int(re.search('\\d+', x).group(0))/100 if pd.notnull(x) else x)\n",
    "\n",
    "# drop columns\n",
    "data = data.drop(columns=['composition'], axis=1)\n",
    "\n",
    "# drop duplicates\n",
    "data = data.drop_duplicates()\n",
    "\n",
    "# reset index\n",
    "data = data.reset_index(drop=True)"
   ]
  },
  {
   "cell_type": "code",
   "execution_count": null,
   "id": "64e2bc79",
   "metadata": {},
   "outputs": [],
   "source": [
    "cleaned_data_csv = data.to_csv('products_hm_cleaned.csv', index=False)"
   ]
  },
  {
   "cell_type": "code",
   "execution_count": null,
   "id": "5180841e",
   "metadata": {},
   "outputs": [],
   "source": []
  },
  {
   "cell_type": "code",
   "execution_count": null,
   "id": "ac806ffa",
   "metadata": {},
   "outputs": [],
   "source": []
  }
 ],
 "metadata": {
  "kernelspec": {
   "display_name": "Python 3 (ipykernel)",
   "language": "python",
   "name": "python3"
  },
  "language_info": {
   "codemirror_mode": {
    "name": "ipython",
    "version": 3
   },
   "file_extension": ".py",
   "mimetype": "text/x-python",
   "name": "python",
   "nbconvert_exporter": "python",
   "pygments_lexer": "ipython3",
   "version": "3.7.9"
  },
  "varInspector": {
   "cols": {
    "lenName": 16,
    "lenType": 16,
    "lenVar": 40
   },
   "kernels_config": {
    "python": {
     "delete_cmd_postfix": "",
     "delete_cmd_prefix": "del ",
     "library": "var_list.py",
     "varRefreshCmd": "print(var_dic_list())"
    },
    "r": {
     "delete_cmd_postfix": ") ",
     "delete_cmd_prefix": "rm(",
     "library": "var_list.r",
     "varRefreshCmd": "cat(var_dic_list()) "
    }
   },
   "types_to_exclude": [
    "module",
    "function",
    "builtin_function_or_method",
    "instance",
    "_Feature"
   ],
   "window_display": false
  }
 },
 "nbformat": 4,
 "nbformat_minor": 5
}
