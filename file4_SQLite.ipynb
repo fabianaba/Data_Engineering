{
 "cells": [
  {
   "cell_type": "code",
   "execution_count": 1,
   "id": "21b5624a",
   "metadata": {
    "ExecuteTime": {
     "end_time": "2022-03-13T13:51:30.854648Z",
     "start_time": "2022-03-13T13:51:28.829979Z"
    }
   },
   "outputs": [],
   "source": [
    "import pandas as pd\n",
    "import sqlite3\n",
    "from sqlalchemy import create_engine"
   ]
  },
  {
   "cell_type": "code",
   "execution_count": 2,
   "id": "2a470fb8",
   "metadata": {
    "ExecuteTime": {
     "end_time": "2022-03-13T13:51:30.869940Z",
     "start_time": "2022-03-13T13:51:30.856030Z"
    }
   },
   "outputs": [],
   "source": [
    "data = pd.read_csv('products_hm_cleaned.csv')"
   ]
  },
  {
   "cell_type": "code",
   "execution_count": 3,
   "id": "925945e3",
   "metadata": {
    "ExecuteTime": {
     "end_time": "2022-03-13T13:51:30.909304Z",
     "start_time": "2022-03-13T13:51:30.870936Z"
    }
   },
   "outputs": [
    {
     "data": {
      "text/html": [
       "<div>\n",
       "<style scoped>\n",
       "    .dataframe tbody tr th:only-of-type {\n",
       "        vertical-align: middle;\n",
       "    }\n",
       "\n",
       "    .dataframe tbody tr th {\n",
       "        vertical-align: top;\n",
       "    }\n",
       "\n",
       "    .dataframe thead th {\n",
       "        text-align: right;\n",
       "    }\n",
       "</style>\n",
       "<table border=\"1\" class=\"dataframe\">\n",
       "  <thead>\n",
       "    <tr style=\"text-align: right;\">\n",
       "      <th></th>\n",
       "      <th>product_id</th>\n",
       "      <th>product_category</th>\n",
       "      <th>product_name</th>\n",
       "      <th>product_price</th>\n",
       "      <th>style_id</th>\n",
       "      <th>color_id</th>\n",
       "      <th>product_colors</th>\n",
       "      <th>fit</th>\n",
       "      <th>scrapy_datetime</th>\n",
       "      <th>cotton</th>\n",
       "      <th>polyester</th>\n",
       "      <th>spandex</th>\n",
       "    </tr>\n",
       "  </thead>\n",
       "  <tbody>\n",
       "    <tr>\n",
       "      <th>0</th>\n",
       "      <td>690449043</td>\n",
       "      <td>men_jeans_ripped</td>\n",
       "      <td>skinny_jeans</td>\n",
       "      <td>39.99</td>\n",
       "      <td>690449</td>\n",
       "      <td>43</td>\n",
       "      <td>light_denim_blue_trashed</td>\n",
       "      <td>skinny_fit</td>\n",
       "      <td>2022-03-11 21:11:24</td>\n",
       "      <td>0.98</td>\n",
       "      <td>0.0</td>\n",
       "      <td>0.02</td>\n",
       "    </tr>\n",
       "    <tr>\n",
       "      <th>1</th>\n",
       "      <td>690449043</td>\n",
       "      <td>men_jeans_ripped</td>\n",
       "      <td>skinny_jeans</td>\n",
       "      <td>39.99</td>\n",
       "      <td>690449</td>\n",
       "      <td>43</td>\n",
       "      <td>denim_blue</td>\n",
       "      <td>skinny_fit</td>\n",
       "      <td>2022-03-11 21:11:24</td>\n",
       "      <td>0.98</td>\n",
       "      <td>0.0</td>\n",
       "      <td>0.02</td>\n",
       "    </tr>\n",
       "    <tr>\n",
       "      <th>2</th>\n",
       "      <td>690449043</td>\n",
       "      <td>men_jeans_ripped</td>\n",
       "      <td>skinny_jeans</td>\n",
       "      <td>39.99</td>\n",
       "      <td>690449</td>\n",
       "      <td>43</td>\n",
       "      <td>black_washed</td>\n",
       "      <td>skinny_fit</td>\n",
       "      <td>2022-03-11 21:11:24</td>\n",
       "      <td>0.98</td>\n",
       "      <td>0.0</td>\n",
       "      <td>0.02</td>\n",
       "    </tr>\n",
       "    <tr>\n",
       "      <th>3</th>\n",
       "      <td>690449043</td>\n",
       "      <td>men_jeans_ripped</td>\n",
       "      <td>skinny_jeans</td>\n",
       "      <td>39.99</td>\n",
       "      <td>690449</td>\n",
       "      <td>43</td>\n",
       "      <td>light_denim_blue</td>\n",
       "      <td>skinny_fit</td>\n",
       "      <td>2022-03-11 21:11:24</td>\n",
       "      <td>0.98</td>\n",
       "      <td>0.0</td>\n",
       "      <td>0.02</td>\n",
       "    </tr>\n",
       "    <tr>\n",
       "      <th>4</th>\n",
       "      <td>690449043</td>\n",
       "      <td>men_jeans_ripped</td>\n",
       "      <td>skinny_jeans</td>\n",
       "      <td>39.99</td>\n",
       "      <td>690449</td>\n",
       "      <td>43</td>\n",
       "      <td>black_washed_out</td>\n",
       "      <td>skinny_fit</td>\n",
       "      <td>2022-03-11 21:11:24</td>\n",
       "      <td>0.98</td>\n",
       "      <td>0.0</td>\n",
       "      <td>0.02</td>\n",
       "    </tr>\n",
       "  </tbody>\n",
       "</table>\n",
       "</div>"
      ],
      "text/plain": [
       "   product_id  product_category  product_name  product_price  style_id  \\\n",
       "0   690449043  men_jeans_ripped  skinny_jeans          39.99    690449   \n",
       "1   690449043  men_jeans_ripped  skinny_jeans          39.99    690449   \n",
       "2   690449043  men_jeans_ripped  skinny_jeans          39.99    690449   \n",
       "3   690449043  men_jeans_ripped  skinny_jeans          39.99    690449   \n",
       "4   690449043  men_jeans_ripped  skinny_jeans          39.99    690449   \n",
       "\n",
       "   color_id            product_colors         fit      scrapy_datetime  \\\n",
       "0        43  light_denim_blue_trashed  skinny_fit  2022-03-11 21:11:24   \n",
       "1        43                denim_blue  skinny_fit  2022-03-11 21:11:24   \n",
       "2        43              black_washed  skinny_fit  2022-03-11 21:11:24   \n",
       "3        43          light_denim_blue  skinny_fit  2022-03-11 21:11:24   \n",
       "4        43          black_washed_out  skinny_fit  2022-03-11 21:11:24   \n",
       "\n",
       "   cotton  polyester  spandex  \n",
       "0    0.98        0.0     0.02  \n",
       "1    0.98        0.0     0.02  \n",
       "2    0.98        0.0     0.02  \n",
       "3    0.98        0.0     0.02  \n",
       "4    0.98        0.0     0.02  "
      ]
     },
     "execution_count": 3,
     "metadata": {},
     "output_type": "execute_result"
    }
   ],
   "source": [
    "data.head()"
   ]
  },
  {
   "cell_type": "code",
   "execution_count": 4,
   "id": "4c4210d7",
   "metadata": {
    "ExecuteTime": {
     "end_time": "2022-03-13T13:51:32.980307Z",
     "start_time": "2022-03-13T13:51:32.969780Z"
    }
   },
   "outputs": [],
   "source": [
    "# table schema\n",
    "query_showroom_schema = \"\"\"\n",
    "\n",
    "    CREATE TABLE showroom(\n",
    "        product_id        INTEGER, \n",
    "        product_category  TEXT, \n",
    "        product_name      TEXT, \n",
    "        product_price     REAL,\n",
    "        style_id          INTEGER, \n",
    "        color_id          INTEGER,\n",
    "        product_colors    TEXT, \n",
    "        fit               TEXT, \n",
    "        scrapy_datetime   TEXT,\n",
    "        cotton            REAL, \n",
    "        polyester         REAL, \n",
    "        spandex           REAL\n",
    "    \n",
    "    )\n",
    "\"\"\""
   ]
  },
  {
   "cell_type": "code",
   "execution_count": 5,
   "id": "ddaecc47",
   "metadata": {
    "ExecuteTime": {
     "end_time": "2022-03-13T03:53:53.883912Z",
     "start_time": "2022-03-13T03:53:53.869285Z"
    }
   },
   "outputs": [],
   "source": [
    "# creation of database and table 'showroom'\n",
    "conn = sqlite3.connect('hm_db.sqlite')  # connect to db or create it if doesn't exist\n",
    "cursor = conn.execute(query_showroom_schema)  # plan the execution\n",
    "conn.commit()  # execute: create empty table 'showroom'\n",
    "# conn.close()   # stop execution"
   ]
  },
  {
   "cell_type": "code",
   "execution_count": 14,
   "id": "ffccd319",
   "metadata": {
    "ExecuteTime": {
     "end_time": "2022-03-13T14:19:38.214078Z",
     "start_time": "2022-03-13T14:19:38.196522Z"
    }
   },
   "outputs": [],
   "source": [
    "conn = create_engine('sqlite:///hm_db.sqlite', echo=False)  # as I already have a db file, now I use create_engine"
   ]
  },
  {
   "cell_type": "code",
   "execution_count": 15,
   "id": "597f195c",
   "metadata": {
    "ExecuteTime": {
     "end_time": "2022-03-13T14:20:09.551543Z",
     "start_time": "2022-03-13T14:20:09.503157Z"
    }
   },
   "outputs": [],
   "source": [
    "# insert data to table\n",
    "data.to_sql('showroom', con=conn, if_exists='append', index=False)"
   ]
  },
  {
   "cell_type": "code",
   "execution_count": 16,
   "id": "b1cc62f1",
   "metadata": {
    "ExecuteTime": {
     "end_time": "2022-03-13T14:20:19.350508Z",
     "start_time": "2022-03-13T14:20:19.340947Z"
    }
   },
   "outputs": [],
   "source": [
    "# creation of a dataframe from 'showroom' table\n",
    "query = \"\"\"\n",
    "    SELECT * FROM showroom\n",
    "\"\"\"\n",
    "df = pd.read_sql_query(query, conn)"
   ]
  },
  {
   "cell_type": "code",
   "execution_count": 17,
   "id": "fdd3a2e2",
   "metadata": {
    "ExecuteTime": {
     "end_time": "2022-03-13T14:20:24.901209Z",
     "start_time": "2022-03-13T14:20:24.883293Z"
    }
   },
   "outputs": [
    {
     "data": {
      "text/html": [
       "<div>\n",
       "<style scoped>\n",
       "    .dataframe tbody tr th:only-of-type {\n",
       "        vertical-align: middle;\n",
       "    }\n",
       "\n",
       "    .dataframe tbody tr th {\n",
       "        vertical-align: top;\n",
       "    }\n",
       "\n",
       "    .dataframe thead th {\n",
       "        text-align: right;\n",
       "    }\n",
       "</style>\n",
       "<table border=\"1\" class=\"dataframe\">\n",
       "  <thead>\n",
       "    <tr style=\"text-align: right;\">\n",
       "      <th></th>\n",
       "      <th>product_id</th>\n",
       "      <th>product_category</th>\n",
       "      <th>product_name</th>\n",
       "      <th>product_price</th>\n",
       "      <th>style_id</th>\n",
       "      <th>color_id</th>\n",
       "      <th>product_colors</th>\n",
       "      <th>fit</th>\n",
       "      <th>scrapy_datetime</th>\n",
       "      <th>cotton</th>\n",
       "      <th>polyester</th>\n",
       "      <th>spandex</th>\n",
       "    </tr>\n",
       "  </thead>\n",
       "  <tbody>\n",
       "    <tr>\n",
       "      <th>0</th>\n",
       "      <td>690449043</td>\n",
       "      <td>men_jeans_ripped</td>\n",
       "      <td>skinny_jeans</td>\n",
       "      <td>39.99</td>\n",
       "      <td>690449</td>\n",
       "      <td>43</td>\n",
       "      <td>light_denim_blue_trashed</td>\n",
       "      <td>skinny_fit</td>\n",
       "      <td>2022-03-11 21:11:24</td>\n",
       "      <td>0.98</td>\n",
       "      <td>0.0</td>\n",
       "      <td>0.02</td>\n",
       "    </tr>\n",
       "    <tr>\n",
       "      <th>1</th>\n",
       "      <td>690449043</td>\n",
       "      <td>men_jeans_ripped</td>\n",
       "      <td>skinny_jeans</td>\n",
       "      <td>39.99</td>\n",
       "      <td>690449</td>\n",
       "      <td>43</td>\n",
       "      <td>denim_blue</td>\n",
       "      <td>skinny_fit</td>\n",
       "      <td>2022-03-11 21:11:24</td>\n",
       "      <td>0.98</td>\n",
       "      <td>0.0</td>\n",
       "      <td>0.02</td>\n",
       "    </tr>\n",
       "    <tr>\n",
       "      <th>2</th>\n",
       "      <td>690449043</td>\n",
       "      <td>men_jeans_ripped</td>\n",
       "      <td>skinny_jeans</td>\n",
       "      <td>39.99</td>\n",
       "      <td>690449</td>\n",
       "      <td>43</td>\n",
       "      <td>black_washed</td>\n",
       "      <td>skinny_fit</td>\n",
       "      <td>2022-03-11 21:11:24</td>\n",
       "      <td>0.98</td>\n",
       "      <td>0.0</td>\n",
       "      <td>0.02</td>\n",
       "    </tr>\n",
       "    <tr>\n",
       "      <th>3</th>\n",
       "      <td>690449043</td>\n",
       "      <td>men_jeans_ripped</td>\n",
       "      <td>skinny_jeans</td>\n",
       "      <td>39.99</td>\n",
       "      <td>690449</td>\n",
       "      <td>43</td>\n",
       "      <td>light_denim_blue</td>\n",
       "      <td>skinny_fit</td>\n",
       "      <td>2022-03-11 21:11:24</td>\n",
       "      <td>0.98</td>\n",
       "      <td>0.0</td>\n",
       "      <td>0.02</td>\n",
       "    </tr>\n",
       "    <tr>\n",
       "      <th>4</th>\n",
       "      <td>690449043</td>\n",
       "      <td>men_jeans_ripped</td>\n",
       "      <td>skinny_jeans</td>\n",
       "      <td>39.99</td>\n",
       "      <td>690449</td>\n",
       "      <td>43</td>\n",
       "      <td>black_washed_out</td>\n",
       "      <td>skinny_fit</td>\n",
       "      <td>2022-03-11 21:11:24</td>\n",
       "      <td>0.98</td>\n",
       "      <td>0.0</td>\n",
       "      <td>0.02</td>\n",
       "    </tr>\n",
       "  </tbody>\n",
       "</table>\n",
       "</div>"
      ],
      "text/plain": [
       "   product_id  product_category  product_name  product_price  style_id  \\\n",
       "0   690449043  men_jeans_ripped  skinny_jeans          39.99    690449   \n",
       "1   690449043  men_jeans_ripped  skinny_jeans          39.99    690449   \n",
       "2   690449043  men_jeans_ripped  skinny_jeans          39.99    690449   \n",
       "3   690449043  men_jeans_ripped  skinny_jeans          39.99    690449   \n",
       "4   690449043  men_jeans_ripped  skinny_jeans          39.99    690449   \n",
       "\n",
       "   color_id            product_colors         fit      scrapy_datetime  \\\n",
       "0        43  light_denim_blue_trashed  skinny_fit  2022-03-11 21:11:24   \n",
       "1        43                denim_blue  skinny_fit  2022-03-11 21:11:24   \n",
       "2        43              black_washed  skinny_fit  2022-03-11 21:11:24   \n",
       "3        43          light_denim_blue  skinny_fit  2022-03-11 21:11:24   \n",
       "4        43          black_washed_out  skinny_fit  2022-03-11 21:11:24   \n",
       "\n",
       "   cotton  polyester  spandex  \n",
       "0    0.98        0.0     0.02  \n",
       "1    0.98        0.0     0.02  \n",
       "2    0.98        0.0     0.02  \n",
       "3    0.98        0.0     0.02  \n",
       "4    0.98        0.0     0.02  "
      ]
     },
     "execution_count": 17,
     "metadata": {},
     "output_type": "execute_result"
    }
   ],
   "source": [
    "df.head()"
   ]
  }
 ],
 "metadata": {
  "kernelspec": {
   "display_name": "Python 3 (ipykernel)",
   "language": "python",
   "name": "python3"
  },
  "language_info": {
   "codemirror_mode": {
    "name": "ipython",
    "version": 3
   },
   "file_extension": ".py",
   "mimetype": "text/x-python",
   "name": "python",
   "nbconvert_exporter": "python",
   "pygments_lexer": "ipython3",
   "version": "3.7.9"
  }
 },
 "nbformat": 4,
 "nbformat_minor": 5
}
