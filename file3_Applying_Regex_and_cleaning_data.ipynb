{
 "cells": [
  {
   "cell_type": "code",
   "execution_count": 181,
   "id": "3cb56ec8",
   "metadata": {
    "ExecuteTime": {
     "end_time": "2022-03-03T03:00:26.837723Z",
     "start_time": "2022-03-03T03:00:26.819690Z"
    }
   },
   "outputs": [],
   "source": [
    "import pandas as pd\n",
    "import re"
   ]
  },
  {
   "cell_type": "code",
   "execution_count": 182,
   "id": "aa9b577d",
   "metadata": {
    "ExecuteTime": {
     "end_time": "2022-03-03T03:00:26.869372Z",
     "start_time": "2022-03-03T03:00:26.839716Z"
    }
   },
   "outputs": [],
   "source": [
    "data = pd.read_csv('HM_data_raw.csv')"
   ]
  },
  {
   "cell_type": "code",
   "execution_count": 183,
   "id": "29d5f58b",
   "metadata": {
    "ExecuteTime": {
     "end_time": "2022-03-03T03:00:26.885260Z",
     "start_time": "2022-03-03T03:00:26.870516Z"
    }
   },
   "outputs": [
    {
     "data": {
      "text/html": [
       "<div>\n",
       "<style scoped>\n",
       "    .dataframe tbody tr th:only-of-type {\n",
       "        vertical-align: middle;\n",
       "    }\n",
       "\n",
       "    .dataframe tbody tr th {\n",
       "        vertical-align: top;\n",
       "    }\n",
       "\n",
       "    .dataframe thead th {\n",
       "        text-align: right;\n",
       "    }\n",
       "</style>\n",
       "<table border=\"1\" class=\"dataframe\">\n",
       "  <thead>\n",
       "    <tr style=\"text-align: right;\">\n",
       "      <th></th>\n",
       "      <th>product_id</th>\n",
       "      <th>product_category</th>\n",
       "      <th>product_name</th>\n",
       "      <th>product_price</th>\n",
       "      <th>style_id</th>\n",
       "      <th>color_id</th>\n",
       "      <th>product_colors</th>\n",
       "      <th>Fit</th>\n",
       "      <th>Composition</th>\n",
       "      <th>Description</th>\n",
       "      <th>Imported</th>\n",
       "      <th>scrapy_datetime</th>\n",
       "    </tr>\n",
       "  </thead>\n",
       "  <tbody>\n",
       "    <tr>\n",
       "      <th>0</th>\n",
       "      <td>985159001</td>\n",
       "      <td>men_jeans_skinny</td>\n",
       "      <td>Skinny Jeans</td>\n",
       "      <td>$ 19.99</td>\n",
       "      <td>985159</td>\n",
       "      <td>1</td>\n",
       "      <td>Denim blue</td>\n",
       "      <td>Skinny fit</td>\n",
       "      <td>Shell: Cotton 99%, Spandex 1%</td>\n",
       "      <td>Black</td>\n",
       "      <td>Yes</td>\n",
       "      <td>2022-03-02 22:41:14.687600</td>\n",
       "    </tr>\n",
       "    <tr>\n",
       "      <th>1</th>\n",
       "      <td>985159001</td>\n",
       "      <td>men_jeans_skinny</td>\n",
       "      <td>Skinny Jeans</td>\n",
       "      <td>$ 19.99</td>\n",
       "      <td>985159</td>\n",
       "      <td>1</td>\n",
       "      <td>Denim blue</td>\n",
       "      <td>Skinny fit</td>\n",
       "      <td>Pocket lining: Cotton 100%</td>\n",
       "      <td>Solid-color</td>\n",
       "      <td>Yes</td>\n",
       "      <td>2022-03-02 22:41:14.687600</td>\n",
       "    </tr>\n",
       "    <tr>\n",
       "      <th>2</th>\n",
       "      <td>985159001</td>\n",
       "      <td>men_jeans_skinny</td>\n",
       "      <td>Skinny Jeans</td>\n",
       "      <td>$ 19.99</td>\n",
       "      <td>985159</td>\n",
       "      <td>1</td>\n",
       "      <td>Denim blue</td>\n",
       "      <td>Skinny fit</td>\n",
       "      <td>Pocket lining: Cotton 100%</td>\n",
       "      <td>Solid-color</td>\n",
       "      <td>Yes</td>\n",
       "      <td>2022-03-02 22:41:14.687600</td>\n",
       "    </tr>\n",
       "    <tr>\n",
       "      <th>3</th>\n",
       "      <td>985159001</td>\n",
       "      <td>men_jeans_skinny</td>\n",
       "      <td>Skinny Jeans</td>\n",
       "      <td>$ 19.99</td>\n",
       "      <td>985159</td>\n",
       "      <td>1</td>\n",
       "      <td>Denim blue</td>\n",
       "      <td>Skinny fit</td>\n",
       "      <td>Pocket lining: Cotton 100%</td>\n",
       "      <td>Solid-color</td>\n",
       "      <td>Yes</td>\n",
       "      <td>2022-03-02 22:41:14.687600</td>\n",
       "    </tr>\n",
       "    <tr>\n",
       "      <th>4</th>\n",
       "      <td>985159001</td>\n",
       "      <td>men_jeans_skinny</td>\n",
       "      <td>Skinny Jeans</td>\n",
       "      <td>$ 19.99</td>\n",
       "      <td>985159</td>\n",
       "      <td>1</td>\n",
       "      <td>Denim blue</td>\n",
       "      <td>Skinny fit</td>\n",
       "      <td>Pocket lining: Cotton 100%</td>\n",
       "      <td>Solid-color</td>\n",
       "      <td>Yes</td>\n",
       "      <td>2022-03-02 22:41:14.687600</td>\n",
       "    </tr>\n",
       "  </tbody>\n",
       "</table>\n",
       "</div>"
      ],
      "text/plain": [
       "   product_id  product_category  product_name product_price  style_id  \\\n",
       "0   985159001  men_jeans_skinny  Skinny Jeans       $ 19.99    985159   \n",
       "1   985159001  men_jeans_skinny  Skinny Jeans       $ 19.99    985159   \n",
       "2   985159001  men_jeans_skinny  Skinny Jeans       $ 19.99    985159   \n",
       "3   985159001  men_jeans_skinny  Skinny Jeans       $ 19.99    985159   \n",
       "4   985159001  men_jeans_skinny  Skinny Jeans       $ 19.99    985159   \n",
       "\n",
       "   color_id product_colors         Fit                    Composition  \\\n",
       "0         1     Denim blue  Skinny fit  Shell: Cotton 99%, Spandex 1%   \n",
       "1         1     Denim blue  Skinny fit     Pocket lining: Cotton 100%   \n",
       "2         1     Denim blue  Skinny fit     Pocket lining: Cotton 100%   \n",
       "3         1     Denim blue  Skinny fit     Pocket lining: Cotton 100%   \n",
       "4         1     Denim blue  Skinny fit     Pocket lining: Cotton 100%   \n",
       "\n",
       "   Description Imported             scrapy_datetime  \n",
       "0        Black      Yes  2022-03-02 22:41:14.687600  \n",
       "1  Solid-color      Yes  2022-03-02 22:41:14.687600  \n",
       "2  Solid-color      Yes  2022-03-02 22:41:14.687600  \n",
       "3  Solid-color      Yes  2022-03-02 22:41:14.687600  \n",
       "4  Solid-color      Yes  2022-03-02 22:41:14.687600  "
      ]
     },
     "execution_count": 183,
     "metadata": {},
     "output_type": "execute_result"
    }
   ],
   "source": [
    "data.head()"
   ]
  },
  {
   "cell_type": "code",
   "execution_count": 184,
   "id": "8b2dbcc4",
   "metadata": {
    "ExecuteTime": {
     "end_time": "2022-03-03T03:00:26.915812Z",
     "start_time": "2022-03-03T03:00:26.887268Z"
    }
   },
   "outputs": [
    {
     "name": "stdout",
     "output_type": "stream",
     "text": [
      "<class 'pandas.core.frame.DataFrame'>\n",
      "RangeIndex: 8361 entries, 0 to 8360\n",
      "Data columns (total 12 columns):\n",
      " #   Column            Non-Null Count  Dtype \n",
      "---  ------            --------------  ----- \n",
      " 0   product_id        8361 non-null   int64 \n",
      " 1   product_category  8361 non-null   object\n",
      " 2   product_name      8361 non-null   object\n",
      " 3   product_price     8361 non-null   object\n",
      " 4   style_id          8361 non-null   int64 \n",
      " 5   color_id          8361 non-null   int64 \n",
      " 6   product_colors    8361 non-null   object\n",
      " 7   Fit               8361 non-null   object\n",
      " 8   Composition       8361 non-null   object\n",
      " 9   Description       8361 non-null   object\n",
      " 10  Imported          8361 non-null   object\n",
      " 11  scrapy_datetime   8361 non-null   object\n",
      "dtypes: int64(3), object(9)\n",
      "memory usage: 784.0+ KB\n"
     ]
    }
   ],
   "source": [
    "data.info()"
   ]
  },
  {
   "cell_type": "markdown",
   "id": "d71f9e15",
   "metadata": {},
   "source": [
    "### Formatting data"
   ]
  },
  {
   "cell_type": "code",
   "execution_count": 185,
   "id": "80b31674",
   "metadata": {
    "ExecuteTime": {
     "end_time": "2022-03-03T03:00:26.977946Z",
     "start_time": "2022-03-03T03:00:26.916809Z"
    }
   },
   "outputs": [
    {
     "data": {
      "text/html": [
       "<div>\n",
       "<style scoped>\n",
       "    .dataframe tbody tr th:only-of-type {\n",
       "        vertical-align: middle;\n",
       "    }\n",
       "\n",
       "    .dataframe tbody tr th {\n",
       "        vertical-align: top;\n",
       "    }\n",
       "\n",
       "    .dataframe thead th {\n",
       "        text-align: right;\n",
       "    }\n",
       "</style>\n",
       "<table border=\"1\" class=\"dataframe\">\n",
       "  <thead>\n",
       "    <tr style=\"text-align: right;\">\n",
       "      <th></th>\n",
       "      <th>product_id</th>\n",
       "      <th>product_category</th>\n",
       "      <th>product_name</th>\n",
       "      <th>product_price</th>\n",
       "      <th>style_id</th>\n",
       "      <th>color_id</th>\n",
       "      <th>product_colors</th>\n",
       "      <th>fit</th>\n",
       "      <th>composition</th>\n",
       "      <th>description</th>\n",
       "      <th>imported</th>\n",
       "      <th>scrapy_datetime</th>\n",
       "    </tr>\n",
       "  </thead>\n",
       "  <tbody>\n",
       "    <tr>\n",
       "      <th>0</th>\n",
       "      <td>985159001</td>\n",
       "      <td>men_jeans_skinny</td>\n",
       "      <td>skinny_jeans</td>\n",
       "      <td>19.99</td>\n",
       "      <td>985159</td>\n",
       "      <td>1</td>\n",
       "      <td>denim_blue</td>\n",
       "      <td>skinny_fit</td>\n",
       "      <td>Shell: Cotton 99%, Spandex 1%</td>\n",
       "      <td>black</td>\n",
       "      <td>Yes</td>\n",
       "      <td>2022-03-02 22:41:14</td>\n",
       "    </tr>\n",
       "    <tr>\n",
       "      <th>1</th>\n",
       "      <td>985159001</td>\n",
       "      <td>men_jeans_skinny</td>\n",
       "      <td>skinny_jeans</td>\n",
       "      <td>19.99</td>\n",
       "      <td>985159</td>\n",
       "      <td>1</td>\n",
       "      <td>denim_blue</td>\n",
       "      <td>skinny_fit</td>\n",
       "      <td>Pocket lining: Cotton 100%</td>\n",
       "      <td>solid-color</td>\n",
       "      <td>Yes</td>\n",
       "      <td>2022-03-02 22:41:14</td>\n",
       "    </tr>\n",
       "    <tr>\n",
       "      <th>2</th>\n",
       "      <td>985159001</td>\n",
       "      <td>men_jeans_skinny</td>\n",
       "      <td>skinny_jeans</td>\n",
       "      <td>19.99</td>\n",
       "      <td>985159</td>\n",
       "      <td>1</td>\n",
       "      <td>denim_blue</td>\n",
       "      <td>skinny_fit</td>\n",
       "      <td>Pocket lining: Cotton 100%</td>\n",
       "      <td>solid-color</td>\n",
       "      <td>Yes</td>\n",
       "      <td>2022-03-02 22:41:14</td>\n",
       "    </tr>\n",
       "    <tr>\n",
       "      <th>3</th>\n",
       "      <td>985159001</td>\n",
       "      <td>men_jeans_skinny</td>\n",
       "      <td>skinny_jeans</td>\n",
       "      <td>19.99</td>\n",
       "      <td>985159</td>\n",
       "      <td>1</td>\n",
       "      <td>denim_blue</td>\n",
       "      <td>skinny_fit</td>\n",
       "      <td>Pocket lining: Cotton 100%</td>\n",
       "      <td>solid-color</td>\n",
       "      <td>Yes</td>\n",
       "      <td>2022-03-02 22:41:14</td>\n",
       "    </tr>\n",
       "    <tr>\n",
       "      <th>4</th>\n",
       "      <td>985159001</td>\n",
       "      <td>men_jeans_skinny</td>\n",
       "      <td>skinny_jeans</td>\n",
       "      <td>19.99</td>\n",
       "      <td>985159</td>\n",
       "      <td>1</td>\n",
       "      <td>denim_blue</td>\n",
       "      <td>skinny_fit</td>\n",
       "      <td>Pocket lining: Cotton 100%</td>\n",
       "      <td>solid-color</td>\n",
       "      <td>Yes</td>\n",
       "      <td>2022-03-02 22:41:14</td>\n",
       "    </tr>\n",
       "  </tbody>\n",
       "</table>\n",
       "</div>"
      ],
      "text/plain": [
       "   product_id  product_category  product_name  product_price  style_id  \\\n",
       "0   985159001  men_jeans_skinny  skinny_jeans          19.99    985159   \n",
       "1   985159001  men_jeans_skinny  skinny_jeans          19.99    985159   \n",
       "2   985159001  men_jeans_skinny  skinny_jeans          19.99    985159   \n",
       "3   985159001  men_jeans_skinny  skinny_jeans          19.99    985159   \n",
       "4   985159001  men_jeans_skinny  skinny_jeans          19.99    985159   \n",
       "\n",
       "   color_id product_colors         fit                    composition  \\\n",
       "0         1     denim_blue  skinny_fit  Shell: Cotton 99%, Spandex 1%   \n",
       "1         1     denim_blue  skinny_fit     Pocket lining: Cotton 100%   \n",
       "2         1     denim_blue  skinny_fit     Pocket lining: Cotton 100%   \n",
       "3         1     denim_blue  skinny_fit     Pocket lining: Cotton 100%   \n",
       "4         1     denim_blue  skinny_fit     Pocket lining: Cotton 100%   \n",
       "\n",
       "   description imported     scrapy_datetime  \n",
       "0        black      Yes 2022-03-02 22:41:14  \n",
       "1  solid-color      Yes 2022-03-02 22:41:14  \n",
       "2  solid-color      Yes 2022-03-02 22:41:14  \n",
       "3  solid-color      Yes 2022-03-02 22:41:14  \n",
       "4  solid-color      Yes 2022-03-02 22:41:14  "
      ]
     },
     "execution_count": 185,
     "metadata": {},
     "output_type": "execute_result"
    }
   ],
   "source": [
    "# column names\n",
    "data = data.rename(columns = {'Fit': 'fit', 'Composition': 'composition','Description':'description', 'Imported': 'imported'})\n",
    "\n",
    "# product_name\n",
    "data['product_name'] = data['product_name'].apply(lambda x: x.replace(' ', '_').lower())\n",
    "\n",
    "# product_price\n",
    "data['product_price'] = data['product_price'].apply(lambda x: x.replace('$', '')).astype(float)\n",
    "\n",
    "# product_color\n",
    "data['product_colors'] = data['product_colors'].apply(lambda x: x.replace(' ', '_').replace('/', '_').lower())\n",
    "\n",
    "# fit\n",
    "data['fit'] = data['fit'].apply(lambda x: x.replace(' ', '_').lower() if pd.notnull(x) else x)\n",
    "\n",
    "# description\n",
    "data['description'] = data['description'].apply(lambda x: x.replace(' ', '_').lower())\n",
    "\n",
    "# scrapy_datetime\n",
    "data['scrapy_datetime'] = data['scrapy_datetime'].apply(lambda x: re.search('(\\d{4}-\\d{2}-\\d{2}\\s\\d{2}\\:\\d{2}\\:\\d{2})', x).group(0))\n",
    "data['scrapy_datetime'] = pd.to_datetime(data['scrapy_datetime'], format='%Y-%m-%d %H:%M:%S')\n",
    "\n",
    "data.head()"
   ]
  },
  {
   "cell_type": "code",
   "execution_count": 190,
   "id": "b804967a",
   "metadata": {
    "ExecuteTime": {
     "end_time": "2022-03-03T03:02:04.555648Z",
     "start_time": "2022-03-03T03:02:04.534148Z"
    }
   },
   "outputs": [
    {
     "data": {
      "text/plain": [
       "array([ 1, 51,  2,  6, 43, 36, 22, 56,  3,  4,  8,  5,  7, 10, 13],\n",
       "      dtype=int64)"
      ]
     },
     "execution_count": 190,
     "metadata": {},
     "output_type": "execute_result"
    }
   ],
   "source": []
  },
  {
   "cell_type": "code",
   "execution_count": null,
   "id": "b725b354",
   "metadata": {},
   "outputs": [],
   "source": []
  },
  {
   "cell_type": "code",
   "execution_count": null,
   "id": "5345d647",
   "metadata": {},
   "outputs": [],
   "source": []
  },
  {
   "cell_type": "code",
   "execution_count": null,
   "id": "ab0adba7",
   "metadata": {},
   "outputs": [],
   "source": []
  },
  {
   "cell_type": "code",
   "execution_count": null,
   "id": "fbc6fedc",
   "metadata": {},
   "outputs": [],
   "source": []
  },
  {
   "cell_type": "code",
   "execution_count": null,
   "id": "75a16573",
   "metadata": {},
   "outputs": [],
   "source": []
  }
 ],
 "metadata": {
  "kernelspec": {
   "display_name": "Python 3 (ipykernel)",
   "language": "python",
   "name": "python3"
  },
  "language_info": {
   "codemirror_mode": {
    "name": "ipython",
    "version": 3
   },
   "file_extension": ".py",
   "mimetype": "text/x-python",
   "name": "python",
   "nbconvert_exporter": "python",
   "pygments_lexer": "ipython3",
   "version": "3.7.9"
  }
 },
 "nbformat": 4,
 "nbformat_minor": 5
}
